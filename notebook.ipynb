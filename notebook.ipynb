{
 "cells": [
  {
   "cell_type": "markdown",
   "metadata": {},
   "source": [
    "# TP : Analyse de sentiments dans les critiques de films"
   ]
  },
  {
   "cell_type": "markdown",
   "metadata": {},
   "source": [
    "### _Pierre Fontaine_ \n",
    "#### X 2016 - Master 2 Data Science"
   ]
  },
  {
   "cell_type": "markdown",
   "metadata": {},
   "source": [
    " "
   ]
  },
  {
   "cell_type": "markdown",
   "metadata": {},
   "source": [
    "## Objectifs\n",
    "\n",
    "1. Implémenter une manière simple de représenter des données textuelles - Bag of words\n",
    "2. Implémenter un modèle d'apprentissage statistique basique - Bayésien Naïf\n",
    "3. Utiliser ces représentations et ce modèle pour une tâche d'analyse de sentiments\n",
    "4. Implémenter différentes manières d'obtenir des représentations denses des mêmes données\n",
    "5. Utiliser un modèle de régression logistique pour entraîner un classifieur sur ces nouvelles représentations."
   ]
  },
  {
   "cell_type": "markdown",
   "metadata": {},
   "source": [
    "## Dépendances nécessaires\n",
    "\n",
    "Pour commencer, on aura besoin des packages suivants:\n",
    "- The Machine Learning API Scikit-learn : http://scikit-learn.org/stable/install.html\n",
    "- The Natural Language Toolkit : http://www.nltk.org/install.html\n",
    "\n",
    "Les deux sont disponibles avec Anaconda: https://anaconda.org/anaconda/nltk et https://anaconda.org/anaconda/scikit-learn"
   ]
  },
  {
   "cell_type": "code",
   "execution_count": 1,
   "metadata": {},
   "outputs": [],
   "source": [
    "import os.path as op\n",
    "import re \n",
    "import numpy as np\n",
    "import matplotlib.pyplot as plt"
   ]
  },
  {
   "cell_type": "markdown",
   "metadata": {},
   "source": [
    "## Charger les données\n",
    "\n",
    "On récupère les données textuelles dans la variable *texts*\n",
    "\n",
    "On récupère les labels dans la variable $y$ qui en contient *len(texts)* : $0$ indique que la critique correspondante est négative tandis que $1$ qu'elle est positive."
   ]
  },
  {
   "cell_type": "code",
   "execution_count": 2,
   "metadata": {},
   "outputs": [
    {
     "name": "stdout",
     "output_type": "stream",
     "text": [
      "25000 documents\n"
     ]
    }
   ],
   "source": [
    "from glob import glob\n",
    "# We get the files from the path: ./data/imdb1/neg for negative reviews, and ./data/imdb1/pos for positive reviews\n",
    "filenames_neg = sorted(glob(op.join('.', 'data', 'imdb1', 'neg', '*.txt')))\n",
    "filenames_pos = sorted(glob(op.join('.', 'data', 'imdb1', 'pos', '*.txt')))\n",
    "\n",
    "# Each files contains a review that consists in one line of text: we put this string in two lists, that we concatenate\n",
    "texts_neg = [open(f, encoding=\"utf8\").read() for f in filenames_neg]\n",
    "texts_pos = [open(f, encoding=\"utf8\").read() for f in filenames_pos]\n",
    "texts = texts_neg + texts_pos\n",
    "\n",
    "# The first half of the elements of the list are string of negative reviews, and the second half positive ones\n",
    "# We create the labels, as an array of [1,len(texts)], filled with 1, and change the first half to 0\n",
    "y = np.ones(len(texts), dtype=np.int)\n",
    "y[:len(texts_neg)] = 0.\n",
    "\n",
    "print(\"%d documents\" % len(texts))"
   ]
  },
  {
   "cell_type": "code",
   "execution_count": 3,
   "metadata": {},
   "outputs": [
    {
     "name": "stdout",
     "output_type": "stream",
     "text": [
      "Nombre de documents: 2500\n"
     ]
    }
   ],
   "source": [
    "# This number of documents may be high for most computers: we can select a fraction of them (here, one in k)\n",
    "# Use an even number to keep the same number of positive and negative reviews\n",
    "# Attention à bien choisir le paramètre k !\n",
    "\n",
    "k = 10\n",
    "texts_reduced = texts[0::k]\n",
    "y_reduced = y[0::k]\n",
    "\n",
    "print('Nombre de documents:', len(texts_reduced))"
   ]
  },
  {
   "cell_type": "markdown",
   "metadata": {},
   "source": [
    "# Bayésien Naïf \n",
    "\n",
    "## Idée principale\n",
    "\n",
    "On dispose d'une critique étant en fait une liste de mots $s = (w_1, ..., w_N)$, et l'on cherche à trouver la classe associée $c$ - qui dans notre cas, peut-être $c = 0$ ou $c = 1$. L'objectif est donc de trouver pour chaque critique $s$ la classe $\\hat{c}$ maximisant la probabilité conditionelle **$P(c|s)$** : \n",
    "\n",
    "$$\\hat{c} = \\underset{c}{\\mathrm{argmax}}\\, P(c|s) = \\underset{c}{\\mathrm{argmax}}\\,\\frac{P(s|c)P(c)}{P(s)}$$\n",
    "\n",
    "**Hypothèse : P(s) est constante pour chaque classe** :\n",
    "\n",
    "$$\\hat{c} = \\underset{c}{\\mathrm{argmax}}\\,\\frac{P(s|c)P(c)}{P(s)} = \\underset{c}{\\mathrm{argmax}}\\,P(s|c)P(c)$$\n",
    "\n",
    "**Hypothèse naïve : les différentes variables (mots) d'une critique sont indépendantes entre elles** : \n",
    "\n",
    "$$P(s|c) = P(w_1, ..., w_N|c)=\\Pi_{i=1..N}P(w_i|c)$$\n",
    "\n",
    "On va donc pouvoir se servir des critiques annotées à notre disposition pour **estimer les probabilités $P(w|c)$ pour chaque mot $w$ étant donné les deux classes $c$**. Ces critiques vont nous permettre d'apprendre à évaluer la \"compatibilité\" entre les mots et classes."
   ]
  },
  {
   "cell_type": "markdown",
   "metadata": {},
   "source": [
    "## Vue générale\n",
    "\n",
    "### Entraînement: Estimer les probabilités\n",
    "\n",
    "Pour chaque mot $w$ du vocabulaire $V$, $P(w|c)$ est le nombre d'occurences de $w$ dans une critique ayant pour classe $c$, divisé par le nombre total d'occurences dans $c$. Si on note $T(w,c)$ ce nombre d'occurences, on obtient:\n",
    "\n",
    "$$P(w|c) = \\text{Fréquence de }w\\text{ dans }c = \\frac{T(w,c)}{\\sum_{w' \\in V} T(w',c)}$$\n",
    "\n",
    "### Test: Calcul des scores\n",
    "\n",
    "Pour faciliter les calculs et éviter les erreurs d'*underflow* et d'approximation, on utilise le \"log-sum trick\", et on passe l'équation en log-probabilités : \n",
    "\n",
    "$$\\hat{c} =  \\underset{c}{\\mathrm{argmax}}\\, P(c|s) = \\underset{c}{\\mathrm{argmax}}\\, \\left[ \\mathrm{log}(P(c)) + \\sum_{i=1..N}log(P(w_i|c)) \\right]$$\n",
    "\n",
    "### Laplace smoothing (Lissage)\n",
    "\n",
    "Un mot qui n'apparaît pas dans un document a une probabilité nulle: cela va poser problème avec le logarithme. On garde donc une toute petite partie de la masse de probabilité qu'on redistribue avec le *Laplace smoothing*: \n",
    "\n",
    "$$P(w|c) = \\frac{T(w,c) + 1}{\\sum_{w' \\in V} T(w',c) + 1}$$\n",
    "\n",
    "Il existe d'autre méthodes de lissage, en général adaptées à d'autres applications plus complexes. "
   ]
  },
  {
   "cell_type": "markdown",
   "metadata": {},
   "source": [
    "## Représentation adaptée des documents\n",
    "\n",
    "Notre modèle statistique, comme la plupart des modèles appliqués aux données textuelles, utilise les comptes d'occurences de mots dans un document. Ainsi, une manière très pratique de représenter un document est d'utiliser un vecteur \"Bag-of-Words\" (BoW), contenant les comptes de chaque mot (indifférement de leur ordre d'apparition) dans le document. \n",
    "\n",
    "Si on considère l'ensemble de tous les mots apparaissant dans nos $T$ documents d'apprentissage, que l'on note $V$ (Vocabulaire), on peut créer **un index**, qui est une bijection associant à chaque mot $w$ un entier, qui sera sa position dans $V$. \n",
    "\n",
    "Ainsi, pour un document extrait d'un ensemble de documents contenant $|V|$ mots différents, une représentation BoW sera un vecteur de taille $|V|$, dont la valeur à l'indice d'un mot $w$ sera son nombre d'occurences dans le document. \n",
    "\n",
    "On peut utiliser la classe **CountVectorizer** de scikit-learn pour mieux comprendre:"
   ]
  },
  {
   "cell_type": "code",
   "execution_count": 4,
   "metadata": {},
   "outputs": [],
   "source": [
    "from sklearn.feature_extraction.text import CountVectorizer\n",
    "\n",
    "from sklearn.model_selection import cross_val_score\n",
    "from sklearn.base import BaseEstimator, ClassifierMixin"
   ]
  },
  {
   "cell_type": "code",
   "execution_count": 5,
   "metadata": {},
   "outputs": [
    {
     "name": "stdout",
     "output_type": "stream",
     "text": [
      "['avenue', 'boulevard', 'city', 'down', 'ran', 'the', 'walk', 'walked']\n"
     ]
    },
    {
     "data": {
      "text/plain": [
       "array([[0, 1, 0, 2, 0, 1, 0, 1],\n",
       "       [1, 0, 0, 1, 0, 1, 0, 1],\n",
       "       [0, 1, 0, 1, 1, 1, 0, 0],\n",
       "       [0, 0, 1, 1, 0, 1, 1, 0],\n",
       "       [1, 0, 0, 1, 0, 2, 1, 0]])"
      ]
     },
     "execution_count": 5,
     "metadata": {},
     "output_type": "execute_result"
    }
   ],
   "source": [
    "corpus = ['I walked down down the boulevard',\n",
    "          'I walked down the avenue',\n",
    "          'I ran down the boulevard',\n",
    "          'I walk down the city',\n",
    "          'I walk down the the avenue']\n",
    "vectorizer = CountVectorizer()\n",
    "\n",
    "Bow = vectorizer.fit_transform(corpus)\n",
    "\n",
    "print(vectorizer.get_feature_names())\n",
    "Bow.toarray()"
   ]
  },
  {
   "cell_type": "markdown",
   "metadata": {},
   "source": [
    "On affiche d'abord la liste contenant les mots ordonnés selon leur indice (On note que les mots de 2 caractères ou moins ne sont pas pris en compte)."
   ]
  },
  {
   "cell_type": "markdown",
   "metadata": {},
   "source": [
    "## Détail: entraînement\n",
    "\n",
    "L'idée est d'extraire le nombre d'occurences $T(w,c)$ de chaque mot $w$ pour chaque classe $c$, ce qui permettra de calculer la matrice de probabilités conditionelles $\\pmb{P}$ telle que: $$\\pmb{P}_{w,c} = P(w|c)$$\n",
    "\n",
    "Notons que le nombre d'occurences $T(w,c)$ peut être obtenu facilement à partir des représentations BoW de l'ensemble des documents.\n",
    "\n",
    "### Procédure:\n",
    "<img src=\"algo_train.png\" alt=\"Drawing\" style=\"width: 700px;\"/>\n",
    "\n",
    "## Détail: test\n",
    "\n",
    "Nous connaissons maintenant les probabilités conditionelles données par la matrice $\\pmb{P}$. \n",
    "Il faut maintenant obtenir $P(s|c)$ pour le document courant. Cette quantité s'obtient à l'aide d'un calcul simple impliquant la représentation BoW du document et $\\pmb{P}$.\n",
    "\n",
    "### Procédure:\n",
    "<img src=\"algo_test.png\" alt=\"Drawing\" style=\"width: 700px;\"/>"
   ]
  },
  {
   "cell_type": "markdown",
   "metadata": {},
   "source": [
    "## Preprocessing du texte: obtenir les représentations BoW\n",
    "\n",
    "D'abord, il faut transformer les critiques sous forme de strings en une liste de mots. La tactique la plus simple consiste à diviser le string suivant les espaces, avec la commande:\n",
    "```text.split()```\n",
    "\n",
    "Mais il faut aussi faire attention à enlever les caractères particuliers qui pourraient ne pas avoir été nettoyés (comme les balises HTML si on a obtenu les données à partir de pages web). Puisque l'on va compter les mots, il faudra construire une liste des mots apparaissant dans nos données. Dans notre cas, on aimerait réduire cette liste et l'uniformiser (ignorer les majuscules, la ponctuation, et les mots les plus courts). \n",
    "On va donc utiliser une fonction adaptée à nos besoins - mais c'est un travail qu'il n'est en général pas nécessaire de faire, puisqu'il existe de nombreux outils déjà adaptés à la plupart des cas de figures. \n",
    "Pour le nettoyage du texte, il existe de nombreux scripts, basés sur différents outils (expressions régulières, par exemple) qui permettent de préparer des données. La division du texte en mots et la gestion de la ponctuation est gérée lors d'une étape appellée *tokenization*; si besoin, un package python comme le NLTK contient de nombreux *tokenizers* différents."
   ]
  },
  {
   "cell_type": "code",
   "execution_count": 6,
   "metadata": {
    "scrolled": true
   },
   "outputs": [],
   "source": [
    "# We might want to clean the file with various strategies:\n",
    "def clean_and_tokenize(text):\n",
    "    \"\"\"\n",
    "    Cleaning a document with:\n",
    "        - Lowercase        \n",
    "        - Removing numbers with regular expressions\n",
    "        - Removing punctuation with regular expressions\n",
    "        - Removing other artifacts\n",
    "    And separate the document into words by simply splitting at spaces\n",
    "    Params:\n",
    "        text (string): a sentence or a document\n",
    "    Returns:\n",
    "        tokens (list of strings): the list of tokens (word units) forming the document\n",
    "    \"\"\"        \n",
    "    # Lowercase\n",
    "    text = text.lower()\n",
    "    # Remove numbers\n",
    "    text = re.sub(r\"[0-9]+\", \"\", text)\n",
    "    # Remove punctuation\n",
    "    REMOVE_PUNCT = re.compile(\"[.;:!\\'?,\\\"()\\[\\]]\")\n",
    "    text = REMOVE_PUNCT.sub(\"\", text)\n",
    "    # Remove small words (1 and statistique2 characters)\n",
    "    text = re.sub(r\"\\b\\w{1,2}\\b\", \"\", text)\n",
    "    # Remove HTML artifacts specific to the corpus we're going to work with\n",
    "    REPLACE_HTML = re.compile(\"(<br\\s*/><br\\s*/>)|(\\-)|(\\/)\")\n",
    "    text = REPLACE_HTML.sub(\" \", text)\n",
    "    \n",
    "    tokens = text.split()        \n",
    "    return tokens\n",
    "\n",
    "# Or we might want to use an already-implemented tool. The NLTK package has a lot of very useful text processing tools, among them various tokenizers\n",
    "# Careful, NLTK was the first well-documented NLP package, but it might be outdated for some uses. Check the documentation !\n",
    "from nltk.tokenize import word_tokenize\n",
    "\n",
    "corpus_raw = \"I walked down down the boulevard. I walked down the avenue. I ran down the boulevard. I walk down the city. I walk down the the avenue.\"\n",
    "#print(clean_and_tokenize(corpus_raw))\n",
    "#print(word_tokenize(corpus_raw))"
   ]
  },
  {
   "cell_type": "markdown",
   "metadata": {},
   "source": [
    "Fonction **à compléter**. Elle prend en entrée une liste de document (chacun sous la forme d'un string) et renvoie, comme dans l'exemple utilisant ```CountVectorizer```:\n",
    "- Un vocabulaire qui associe à chaque mot rencontré un index\n",
    "- Une matrice, dont les lignes représentent les documents et les colonnes les mots indexés par le vocabulaire. En position $(i,j)$, on devra avoir le nombre d'occurence du mot $j$ dans le document $i$.\n",
    "\n",
    "Le vocabulaire, qui était sous la forme d'une *liste* dans l'exemple précédent, pourra être renvoyé sous forme de *dictionnaire* dont les clés sont les mots et les valeurs les indices. Puisque le vocabulaire recense les mots du corpus sans se soucier de leur nombre d'occurences, on pourra le constituer à l'aide d'un ensemble (```set``` en python). \n",
    "On pourra bien sur utiliser la fonction ```clean_and_tokenize``` pour transformer les strings en liste de mots. \n",
    "##### Quelques pointeurs pour les débutants en Python : \n",
    "\n",
    "- ```my_list.append(value)``` : put the variable ```value``` at the end of the list ```my_list```\n",
    "\n",
    "-  ```words = set()``` : create a set, which is a list of unique values \n",
    "\n",
    "- ```words.union(my_list)``` : extend the set ```words```\n",
    "\n",
    "- ```dict(zip(keys, values)))``` : create a dictionnary\n",
    "\n",
    "- ```for k, text in enumerate(texts)``` : syntax for a loop with the index, ```texts``` begin a list (of texts !)\n",
    "\n",
    "- ```len(my-list)``` : length of the list ```my_list```\n"
   ]
  },
  {
   "cell_type": "code",
   "execution_count": 7,
   "metadata": {},
   "outputs": [],
   "source": [
    "def count_words(texts):\n",
    "    \"\"\"Vectorize text : return count of each word in the text snippets\n",
    "\n",
    "    Parameters\n",
    "    ----------\n",
    "    texts : list of str\n",
    "        The texts\n",
    "    Returns\n",
    "    -------\n",
    "    vocabulary : dict\n",
    "        A dictionary that points to an index in counts for each word.\n",
    "    counts : ndarray, shape (n_samples, n_features)\n",
    "        The counts of each word in each text.\n",
    "    \"\"\"\n",
    "    \n",
    "    ## On parcourt tous les textes du corpus 'texts' et on obtient l'ensemble des mots 'words' en invoquant la\n",
    "    ## fonction 'clean_and_tokenize'\n",
    "    \n",
    "    words = set()\n",
    "    for text in texts:\n",
    "        words = words.union(set(clean_and_tokenize(text)))\n",
    "    \n",
    "    ## Le dictionnaire 'vocabulary' a pour clefs les mots 'words' et valeurs des indices entiers\n",
    "    \n",
    "    n_features = len(words)\n",
    "    values = set(range(n_features))\n",
    "    vocabulary = dict(zip(words, values))\n",
    "    \n",
    "    counts = np.zeros(shape=(len(texts), n_features), dtype=int)\n",
    "    # On parcourt les textes du corpus\n",
    "    for k, text in enumerate(texts):\n",
    "        # On incrémente la matrice 'counts' pour l'indice du vocabulaire correspondant au mot 'word'\n",
    "        for word in clean_and_tokenize(text):\n",
    "            counts[k][vocabulary[word]] += 1\n",
    "            \n",
    "    return vocabulary, counts"
   ]
  },
  {
   "cell_type": "code",
   "execution_count": 8,
   "metadata": {},
   "outputs": [
    {
     "name": "stdout",
     "output_type": "stream",
     "text": [
      "{'walk': 0, 'walked': 1, 'the': 2, 'avenue': 3, 'city': 4, 'ran': 5, 'down': 6, 'boulevard': 7}\n",
      "[[0 1 1 0 0 0 2 1]\n",
      " [0 1 1 1 0 0 1 0]\n",
      " [0 0 1 0 0 1 1 1]\n",
      " [1 0 1 0 1 0 1 0]\n",
      " [1 0 2 1 0 0 1 0]]\n"
     ]
    }
   ],
   "source": [
    "Voc, X = count_words(corpus)\n",
    "print(Voc)\n",
    "print(X)"
   ]
  },
  {
   "cell_type": "markdown",
   "metadata": {},
   "source": [
    "## Bayésien Naïf \n",
    "\n",
    "Classe vide : fonctions **à compléter** : \n",
    "\n",
    "```python\n",
    "def fit(self, X, y)\n",
    "``` \n",
    "**Entraînement** : va apprendre un modèle statistique basés sur les représentations $X$ correspondant aux labels $y$.\n",
    "$X$ représente donc ici des représentations obtenues en sortie de count_words. On complète la fonction à l'aide de la procédure détaillée plus haut. Si il est possible de la suivre à la lettre, les représentations que l'on utilise nous permettre d'être bien plus efficace et d'éviter d'utiliser des boucles !\n",
    "\n",
    "\n",
    "Note: le lissage, effectué à la ligne $10$, ne se fait pas nécessairement avec un $1$, mais peut se faire avec une valeur positive $\\alpha$, qu'on peut implémenter comme argument de la classe ```NB```.\n",
    "\n",
    "```python\n",
    "def predict(self, X)\n",
    "```\n",
    "**Testing** : va renvoyer les labels prédits par le modèle pour d'autres représentations $X$.\n",
    "\n",
    "\n",
    "Pour faciliter la procédure, on prendra la moitié de la matrice $X$ obtenue plus haut pour entraîner le modèle, et l'autre moitié pour l'évaluer. **Important**: cette façon de procéder n'est pas réaliste: en général, on ne dispose que des données d'entraînement au moment de créer le vocabulaire et d'entraîner le modèle. Ainsi, il est possible que les données d'évaluation contiennent des mots *inconnus*. C'est quelque chose qu'on peut traiter facilement en dédiant un indice à tous les mots rencontrés qui ne sont pas contenus dans le vocabulaire - mais il existe de nombreuses méthodes plus complexes pour réussir à utiliser à bon escient ces mots que le modèle n'a pas rencontré à l'entraînement. "
   ]
  },
  {
   "cell_type": "markdown",
   "metadata": {},
   "source": [
    "##### Quelques pointeurs pour les débutants en Python : \n",
    "\n",
    "Utiliser l'API Numpy pour travailler avec des tenseurs\n",
    "\n",
    "\n",
    "- ```X.shape``` : for a ```numpy.array```, return the dimension of the tensor\n",
    "\n",
    "- ```np.zeros((dim_1, dim_2,...))``` : create a tensor filled with zeros\n",
    "\n",
    "- ```np.sum(X, axis = n)``` : sum the tensor over the axis n\n",
    "\n",
    "- ```np.mean(X, axis = n)```\n",
    "\n",
    "- ```np.argmax(X, axis = n)```\n",
    "\n",
    "- ```np.log(X)```\n",
    "\n",
    "- ```np.dot(X_1, X_1)``` : Matrix multiplication"
   ]
  },
  {
   "cell_type": "code",
   "execution_count": 9,
   "metadata": {},
   "outputs": [],
   "source": [
    "class NB(BaseEstimator, ClassifierMixin):\n",
    "    # Les arguments de classe permettent l'héritage de classes de sklearn\n",
    "    def __init__(self, alpha=1.0):\n",
    "        # alpha est un paramètre pour le lissage: il correspond à la valeur ligne 10 de l'algorithme d'entraînement\n",
    "        # Dans l'algorithme d'entraînement, et comme valeur par défaut, on utilise alpha = 1\n",
    "        self.alpha = alpha     \n",
    "        \n",
    "    ## On applique l'algorithme TRAINMULTINOMIALNB pour deux classes '0' et '1', ce qui correspond finalement à\n",
    "    ## TRAINBINOMIALNB\n",
    "    \n",
    "    ## Remarque : on a choisi de considérer directement les logarithmes des priors et des probabilités\n",
    "    ## conditionnelles dans la fonction 'fit'\n",
    "    \n",
    "    def fit(self, X, y):\n",
    "        # Taille du vocabulaire\n",
    "        v = X.shape[1]\n",
    "        # Taille du corpus\n",
    "        n = X.shape[0]\n",
    "        # Logarithmes des probabilités conditionnelles\n",
    "        self.log_cond_prob = np.zeros((v, 2))\n",
    "        # Logarithmes des priors pour les deux classes\n",
    "        self.log_prior = [0, 0]\n",
    "        # Prior de classe c = card(X de classe c) / card(X)\n",
    "        self.log_prior[0], self.log_prior[1] = np.log(len(X[y==0])/n), np.log(len(X[y==1])/n)\n",
    "        # Compteur des tokens selon le vocabulaire, pour chaque classe\n",
    "        compt = np.zeros((v, 2))\n",
    "        # On parcourt le vocabualire\n",
    "        for it in range(v):\n",
    "            # Initialisation à alpha\n",
    "            compt[it][0], compt[it][1] = self.alpha, self.alpha\n",
    "            # On parcourt la classe '0'\n",
    "            for x_0 in X[y==0]:\n",
    "                compt[it][0] += x_0[it]\n",
    "            # On parcourt la classe '1'\n",
    "            for x_1 in X[y==1]:\n",
    "                compt[it][1] += x_1[it]\n",
    "        # On somme les compteurs dans 'acc'\n",
    "        acc = np.sum(compt, axis=0)\n",
    "        acc_0, acc_1 = acc[0], acc[1]\n",
    "        # On calcule les probabilités conditionnelles selon la formule de l'algorithme\n",
    "        for it in range(v):\n",
    "            self.log_cond_prob[it][0] = np.log(compt[it][0] / acc_0)\n",
    "            self.log_cond_prob[it][1] = np.log(compt[it][1] / acc_1)\n",
    "        return self\n",
    "        \n",
    "    \n",
    "    def predict(self, X):\n",
    "        result = []\n",
    "        # On parcourt X\n",
    "        for x in X:\n",
    "            # On extrait les mots du texte 'x'\n",
    "            words = []\n",
    "            for it, xx in enumerate(x):\n",
    "                if xx!=0:\n",
    "                    words += xx*[it]\n",
    "            score = np.zeros((2))\n",
    "            # On incrémente les scores pour les deux classes : '0' et '1'\n",
    "            score[0], score[1] = self.log_prior[0], self.log_prior[1]\n",
    "            for word in words:\n",
    "                score[0] += self.log_cond_prob[word][0]\n",
    "                score[1] += self.log_cond_prob[word][1]\n",
    "            # Le résultat privilégié est celui maximisant le score\n",
    "            result.append(np.argmax(score))\n",
    "        return result\n",
    "                    \n",
    "    def score(self, X, y):\n",
    "        return np.mean(self.predict(X) == y)"
   ]
  },
  {
   "cell_type": "markdown",
   "metadata": {},
   "source": [
    "## Expérimentation\n",
    "\n",
    "On utilise la moitié des données pour l'entraînement, l'autre pour tester le modèle."
   ]
  },
  {
   "cell_type": "code",
   "execution_count": 10,
   "metadata": {},
   "outputs": [],
   "source": [
    "voc, X = count_words(texts_reduced)"
   ]
  },
  {
   "cell_type": "code",
   "execution_count": 11,
   "metadata": {},
   "outputs": [
    {
     "name": "stdout",
     "output_type": "stream",
     "text": [
      "0.796\n"
     ]
    }
   ],
   "source": [
    "nb = NB()\n",
    "nb.fit(X[::2], y_reduced[::2])\n",
    "print(nb.score(X[1::2], y_reduced[1::2]))"
   ]
  },
  {
   "cell_type": "markdown",
   "metadata": {},
   "source": [
    "## Cross-validation \n",
    "\n",
    "Avec la fonction *cross_val_score* de scikit-learn"
   ]
  },
  {
   "cell_type": "code",
   "execution_count": 12,
   "metadata": {},
   "outputs": [
    {
     "name": "stdout",
     "output_type": "stream",
     "text": [
      "Score de classification: 0.7804 (std 0.022249494376277386)\n"
     ]
    }
   ],
   "source": [
    "scores = cross_val_score(nb, X, y_reduced, cv=5)\n",
    "print('Score de classification: %s (std %s)' % (np.mean(scores), np.std(scores)))"
   ]
  },
  {
   "cell_type": "markdown",
   "metadata": {},
   "source": [
    "## Evaluer les performances: \n",
    "\n",
    "**Quelles sont les points forts et les points faibles de ce système ? Comment y remédier ?**"
   ]
  },
  {
   "cell_type": "markdown",
   "metadata": {},
   "source": [
    "Nous obtenons les résultats suivants pour notre implmentation du Classifieur Bayésien Naïf en fonction de `k` :\n",
    "\n",
    "|`k`| Score| Score de validation croisée|\n",
    "|:-:|:----:|:--------------------------:|\n",
    "| 10| 0.796|           0.7804 (std 0.02)|\n",
    "| 25| 0.778|            0.767 (std 0.02)|\n",
    "\n",
    "Nous verrons au cours de ce TP s'il est possible d'en obtenir de meilleurs. Ils semblent déjà prometteurs car la méthode de classification bayésienne est relativement simple (naïve)."
   ]
  },
  {
   "cell_type": "markdown",
   "metadata": {},
   "source": [
    "#### *Points forts :* \n",
    "* Le Classifieur Bayésien Naïf a une bonne capacité de classifciation car il repose sur une théorie mathématique efficace quoique naïve. En outre, les résultats obtenus par le classifieur s'expliquent simplement en terme de probabilités.\n",
    "* Il est facile à implémenter et considéré d'éxécution rapide.\n",
    "* On peut facilement l'élargir à une classification multicatégorielle (plus de deux classes) si l'on souhaite considérer une autre classification que la classification binaire.\n",
    "* Il est relativement insensible aux données absurdes ou erronées, il est donc robuste.\n",
    "\n",
    "\n",
    "#### *Point faible :*\n",
    "* Le Classifieur Bayésien Naïf suppose l'indépendance des données : si différents textes sont corrélés, les résultats de la théorie mathématique ne sont plus valides. Cette condition est presque toujours violée dans les cas rééls.\n",
    "* Il est très sensible à la forme des données d'entrée.\n",
    "\n",
    "#### *Solution pour y remédier :*\n",
    "\n",
    "* Même si les données ne sont pas indépendantes, on observe des résultats satisfaisants en pratique. On peut cependant songer à des classifieurs plus complexes, qui prennent en compte les cas de dépendance. Leur implémentation est cependant plus difficile."
   ]
  },
  {
   "cell_type": "markdown",
   "metadata": {},
   "source": [
    "## Pour aller plus loin: "
   ]
  },
  {
   "cell_type": "code",
   "execution_count": 13,
   "metadata": {},
   "outputs": [],
   "source": [
    "from sklearn.naive_bayes import MultinomialNB\n",
    "from sklearn.feature_extraction.text import TfidfTransformer\n",
    "from sklearn.pipeline import Pipeline"
   ]
  },
  {
   "cell_type": "markdown",
   "metadata": {},
   "source": [
    "## Scikit-learn"
   ]
  },
  {
   "cell_type": "markdown",
   "metadata": {},
   "source": [
    "### Améliorer les représentations\n",
    "\n",
    "On utilise la function \n",
    "```python\n",
    "CountVectorizer\n",
    "``` \n",
    "de scikit-learn pour constituer notre corpus. Elle nous permettra d'améliorer facilement nos représentations BoW.\n",
    "\n",
    "#### Tf-idf:\n",
    "\n",
    "Il s'agit du produit de la fréquence du terme (TF) et de sa fréquence inverse dans les documents (IDF).\n",
    "Cette méthode est habituellement utilisée pour extraire l'importance d'un terme $i$ dans un document $j$ relativement au reste du corpus, à partir d'une matrice d'occurences $mots \\times documents$. Ainsi, pour une matrice $\\mathbf{T}$ de $|V|$ termes et $D$ documents:\n",
    "$$\\text{TF}(T, w, d) = \\frac{T_{w,d}}{\\sum_{w'=1}^{|V|} T_{w',d}} $$\n",
    "\n",
    "$$\\text{IDF}(T, w) = \\log\\left(\\frac{D}{|\\{d : T_{w,d} > 0\\}|}\\right)$$\n",
    "\n",
    "$$\\text{TF-IDF}(T, w, d) = \\text{TF}(X, w, d) \\cdot \\text{IDF}(T, w)$$\n",
    "\n",
    "On peut l'adapter à notre cas en considérant que le contexte du deuxième mot est le document. Cependant, TF-IDF est généralement plus adaptée aux matrices peu denses, puisque cette mesure pénalisera les termes qui apparaissent dans une grande partie des documents. \n",
    "    \n",
    "#### Ne pas prendre en compte les mots trop fréquents:\n",
    "\n",
    "On peut utiliser l'option \n",
    "```python\n",
    "max_df=1.0\n",
    "```\n",
    "pour modifier la quantité de mots pris en compte. \n",
    "\n",
    "#### Essayer différentes granularités:\n",
    "\n",
    "Plutôt que de simplement compter les mots, on peut compter les séquences de mots - de taille limitée, bien sur. \n",
    "On appelle une séquence de $n$ mots un $n$-gram: essayons d'utiliser les 2 et 3-grams (bi- et trigrams).\n",
    "On peut aussi tenter d'utiliser les séquences de caractères à la place de séquences de mots.\n",
    "\n",
    "On s'intéressera aux options \n",
    "```python\n",
    "analyzer='word'\n",
    "```\n",
    "et \n",
    "```python\n",
    "ngram_range=(1, 2)\n",
    "```\n",
    "que l'on changera pour modifier la granularité. "
   ]
  },
  {
   "cell_type": "code",
   "execution_count": 14,
   "metadata": {
    "scrolled": true
   },
   "outputs": [
    {
     "name": "stdout",
     "output_type": "stream",
     "text": [
      "Classification score: 0.781 (std 0.021)\n",
      "Classification score tf-idf: 0.783 (std 0.024)\n",
      "Classification score sans mots fréquents: 0.785 (std 0.019)\n",
      "Classification score bigram: 0.805 (std 0.017)\n",
      "Classification score trigram: 0.816 (std 0.016)\n",
      "Classification score trigram TF-IDF: 0.812 (std 0.022)\n",
      "Classification score quadrigram: 0.816 (std 0.019)\n",
      "Classification score pentagram: 0.815 (std 0.02)\n",
      "Classification score char and bigram: 0.682 (std 0.03)\n",
      "Classification score char and trigram: 0.722 (std 0.033)\n",
      "Classification score char and quadrigram: 0.751 (std 0.027)\n"
     ]
    }
   ],
   "source": [
    "## On peut définir une pipeline que l'on modifiera pour expérimenter.\n",
    "\n",
    "## Base\n",
    "\n",
    "pipeline_base = Pipeline([\n",
    "    ('vect', CountVectorizer(analyzer='word', stop_words=None)),\n",
    "    ('clf', MultinomialNB()),\n",
    "])\n",
    "scores = cross_val_score(pipeline_base, texts_reduced, y_reduced, cv=5)\n",
    "print(\"Classification score: %s (std %s)\" % (round(np.mean(scores), 3), round(np.std(scores), 3)))\n",
    "\n",
    "## TF-IDF\n",
    "\n",
    "pipeline_tf_idf = Pipeline([\n",
    "    ('vect', CountVectorizer(analyzer='word', stop_words=None)),\n",
    "    ('tfidf', TfidfTransformer()),\n",
    "    ('clf', MultinomialNB()),\n",
    "])\n",
    "scores = cross_val_score(pipeline_tf_idf, texts_reduced, y_reduced, cv=5)\n",
    "print(\"Classification score tf-idf: %s (std %s)\" % (round(np.mean(scores), 3), round(np.std(scores), 3)))\n",
    "\n",
    "## Max DF (choisir une fraction entre 0 et 1 afin de conserver la proportion de mots)\n",
    "\n",
    "pipeline_maxdf = Pipeline([\n",
    "    ('vect', CountVectorizer(analyzer='word', stop_words=None, max_df=0.25)),\n",
    "    ('clf', MultinomialNB()),\n",
    "])\n",
    "scores = cross_val_score(pipeline_maxdf, texts_reduced, y_reduced, cv=5)\n",
    "print(\"Classification score sans mots fréquents: %s (std %s)\" % (round(np.mean(scores), 3), round(np.std(scores), 3)))\n",
    "\n",
    "## Bigram Words\n",
    "\n",
    "pipeline_bigram = Pipeline([\n",
    "    ('vect', CountVectorizer(analyzer='word', stop_words=None, ngram_range=(1, 2))),\n",
    "    ('clf', MultinomialNB()),\n",
    "])\n",
    "scores = cross_val_score(pipeline_bigram, texts_reduced, y_reduced, cv=5)\n",
    "print(\"Classification score bigram: %s (std %s)\" % (round(np.mean(scores), 3), round(np.std(scores), 3)))\n",
    "\n",
    "## Trigram Words\n",
    "\n",
    "pipeline_trigram = Pipeline([\n",
    "    ('vect', CountVectorizer(analyzer='word', stop_words=None, ngram_range=(1, 3))),\n",
    "    ('clf', MultinomialNB()),\n",
    "])\n",
    "scores = cross_val_score(pipeline_trigram, texts_reduced, y_reduced, cv=5)\n",
    "print(\"Classification score trigram: %s (std %s)\" % (round(np.mean(scores), 3), round(np.std(scores), 3)))\n",
    "\n",
    "## Trigram Words TF-IDF\n",
    "\n",
    "pipeline_trigram_tfidf = Pipeline([\n",
    "    ('vect', CountVectorizer(analyzer='word', stop_words=None, ngram_range=(1, 3))),\n",
    "    ('tfidf', TfidfTransformer()),\n",
    "    ('clf', MultinomialNB()),\n",
    "])\n",
    "scores = cross_val_score(pipeline_trigram_tfidf, texts_reduced, y_reduced, cv=5)\n",
    "print(\"Classification score trigram TF-IDF: %s (std %s)\" % (round(np.mean(scores), 3), round(np.std(scores), 3)))\n",
    "\n",
    "## Quadrigram Words\n",
    "\n",
    "pipeline_quadrigram = Pipeline([\n",
    "    ('vect', CountVectorizer(analyzer='word', stop_words=None, ngram_range=(1, 4))),\n",
    "    ('clf', MultinomialNB()),\n",
    "])\n",
    "scores = cross_val_score(pipeline_quadrigram, texts_reduced, y_reduced, cv=5)\n",
    "print(\"Classification score quadrigram: %s (std %s)\" % (round(np.mean(scores), 3), round(np.std(scores), 3)))\n",
    "\n",
    "## Pentagram Words\n",
    "\n",
    "pipeline_pentagram = Pipeline([\n",
    "    ('vect', CountVectorizer(analyzer='word', stop_words=None, ngram_range=(1, 6))),\n",
    "    ('clf', MultinomialNB()),\n",
    "])\n",
    "scores = cross_val_score(pipeline_pentagram, texts_reduced, y_reduced, cv=5)\n",
    "print(\"Classification score pentagram: %s (std %s)\" % (round(np.mean(scores), 3), round(np.std(scores), 3)))\n",
    "\n",
    "## Bigram Char\n",
    "\n",
    "pipeline_char = Pipeline([\n",
    "    ('vect', CountVectorizer(analyzer='char', stop_words=None, ngram_range=(1, 2))),\n",
    "    ('clf', MultinomialNB()),\n",
    "])\n",
    "scores = cross_val_score(pipeline_char, texts_reduced, y_reduced, cv=5)\n",
    "print(\"Classification score char and bigram: %s (std %s)\" % (round(np.mean(scores), 3), round(np.std(scores), 3)))\n",
    "\n",
    "## Trigram Char\n",
    "\n",
    "pipeline_char_trigram = Pipeline([\n",
    "    ('vect', CountVectorizer(analyzer='char', stop_words=None, ngram_range=(1, 3))),\n",
    "    ('clf', MultinomialNB()),\n",
    "])\n",
    "scores = cross_val_score(pipeline_char_trigram, texts_reduced, y_reduced, cv=5)\n",
    "print(\"Classification score char and trigram: %s (std %s)\" % (round(np.mean(scores), 3), round(np.std(scores), 3)))\n",
    "\n",
    "## Quadrigram Char\n",
    "\n",
    "pipeline_char_quadri = Pipeline([\n",
    "    ('vect', CountVectorizer(analyzer='char', stop_words=None, ngram_range=(1, 4))),\n",
    "    ('clf', MultinomialNB()),\n",
    "])\n",
    "scores = cross_val_score(pipeline_char_quadri, texts_reduced, y_reduced, cv=5)\n",
    "print(\"Classification score char and quadrigram: %s (std %s)\" % (round(np.mean(scores), 3), round(np.std(scores), 3)))"
   ]
  },
  {
   "cell_type": "markdown",
   "metadata": {},
   "source": [
    "Les résultats obtenus avec les différentes _pipelines_ sont, pour `k=10` :\n",
    "\n",
    "|   Pipeline|Score de validation croisée|\n",
    "|:--------:|:-------------------------:|\n",
    "|   Basique| 0.781 (std 0.021)|\n",
    "|TF-IDF| 0.783 (std 0.024) |\n",
    "|Sans mots fréquents| 0.785 (std 0.019)|\n",
    "|Bigram|0.805 (std 0.017)|\n",
    "|Trigram|0.816 (std 0.016)|\n",
    "|Trigram & TF-IDF|0.812 (std 0.022)|\n",
    "|Quadrigram|0.816 (std 0.019)|\n",
    "|Pentagram|0.815 (std 0.02)|\n",
    "|Char & Bigram|0.682 (std 0.03)|\n",
    "|Char & Trigram| 0.722 (std 0.033)|\n",
    "|Char & Quadrigram| 0.751 (std 0.027)|\n",
    "\n",
    "\n",
    "\n",
    "- On remarque que les classifications sur des mots avec des $n$-_grams_ ont de bons résultats, mais plus $n$ est grand, plus le calcul est coûteux (le temps de calcul reste cependant acceptable dans notre cas). Le _trigram_ est le cas préférable.\n",
    "\n",
    "- L'utilisation du transformeur TF-IDF donne un résultat légérement moins performant que celui de la classification basique, ou bien même si on compose aussi avec une approche $n$-_gram_.\n",
    "\n",
    "- Les  résultats sur les séquences de caractères sont moins performants, ce qui semble cohérent puisque l'analyse sur les mots semble davantage cohérente"
   ]
  },
  {
   "cell_type": "markdown",
   "metadata": {},
   "source": [
    "### Natural Language Toolkit (NLTK)"
   ]
  },
  {
   "cell_type": "markdown",
   "metadata": {},
   "source": [
    "### Stemming \n",
    "\n",
    "Permet de revenir à la racine d'un mot: on peut ainsi grouper différents mots autour de la même racine, ce qui facilite la généralisation. Utiliser:\n",
    "```python\n",
    "from nltk import SnowballStemmer\n",
    "```"
   ]
  },
  {
   "cell_type": "code",
   "execution_count": 15,
   "metadata": {},
   "outputs": [],
   "source": [
    "from nltk import SnowballStemmer\n",
    "stemmer = SnowballStemmer(\"english\")"
   ]
  },
  {
   "cell_type": "markdown",
   "metadata": {},
   "source": [
    "#### Exemple d'utilisation:"
   ]
  },
  {
   "cell_type": "code",
   "execution_count": 16,
   "metadata": {},
   "outputs": [
    {
     "name": "stdout",
     "output_type": "stream",
     "text": [
      "word : singers ; stemmed : singer\n",
      "word : cat ; stemmed : cat\n",
      "word : generalization ; stemmed : general\n",
      "word : philosophy ; stemmed : philosophi\n",
      "word : psychology ; stemmed : psycholog\n",
      "word : philosopher ; stemmed : philosoph\n"
     ]
    }
   ],
   "source": [
    "words = ['singers', 'cat', 'generalization', 'philosophy', 'psychology', 'philosopher']\n",
    "for word in words:\n",
    "    print(\"word :\", word, \"; stemmed :\", stemmer.stem(word))"
   ]
  },
  {
   "cell_type": "markdown",
   "metadata": {},
   "source": [
    "#### Transformation des données:\n",
    "\n",
    "Classe vide : function **à compléter** \n",
    "```python\n",
    "def stem(X)\n",
    "``` "
   ]
  },
  {
   "cell_type": "code",
   "execution_count": 17,
   "metadata": {},
   "outputs": [],
   "source": [
    "def stem(X): \n",
    "    \n",
    "    ## On parcourt les textes de 'X' et on applique la fonction 'stemmer.stem' à chaque mot du texte 'text' auquel\n",
    "    ## on a auparavant appliqué la fonction 'clean_and_tokenize'\n",
    "    \n",
    "    X_stem = []\n",
    "    for text in X:\n",
    "        text_stem = \"\"\n",
    "        for word in clean_and_tokenize(text):\n",
    "            # On sépare les mots par un espace, on ajoute le mot de 'stem(word)' au texte 'text_stem'\n",
    "            text_stem += \" \" + stemmer.stem(word) \n",
    "        X_stem.append(text_stem)\n",
    "    return X_stem"
   ]
  },
  {
   "cell_type": "code",
   "execution_count": 18,
   "metadata": {},
   "outputs": [
    {
     "name": "stdout",
     "output_type": "stream",
     "text": [
      "Score de classification: 0.7708 (std 0.016473008225579216)\n"
     ]
    }
   ],
   "source": [
    "texts_stemmed = stem(texts_reduced)\n",
    "voc, X = count_words(texts_stemmed)\n",
    "nb = NB()\n",
    "\n",
    "scores = cross_val_score(nb, X, y_reduced, cv=5)\n",
    "print('Score de classification: %s (std %s)' % (np.mean(scores), np.std(scores)))"
   ]
  },
  {
   "cell_type": "markdown",
   "metadata": {},
   "source": [
    "On constate une baisse du score : celui-ci est de $0.771$ alors qu'on avait précédemment un score de $0.780$ avec `nb`."
   ]
  },
  {
   "cell_type": "markdown",
   "metadata": {},
   "source": [
    "### Partie du discours\n",
    "\n",
    "Pour généraliser, on peut aussi utiliser les parties du discours (Part of Speech, POS) des mots, ce qui nous permettra  de filtrer l'information qui n'est potentiellement pas utile au modèle. On va récupérer les POS des mots à l'aide des fonctions:\n",
    "```python\n",
    "from nltk import pos_tag, word_tokenize\n",
    "```"
   ]
  },
  {
   "cell_type": "code",
   "execution_count": 19,
   "metadata": {},
   "outputs": [],
   "source": [
    "import nltk\n",
    "from nltk import pos_tag, word_tokenize"
   ]
  },
  {
   "cell_type": "markdown",
   "metadata": {},
   "source": [
    "#### Exemple d'utilisation:"
   ]
  },
  {
   "cell_type": "code",
   "execution_count": 20,
   "metadata": {
    "scrolled": true
   },
   "outputs": [],
   "source": [
    "#import nltk\n",
    "#nltk.download('punkt')\n",
    "#nltk.download('averaged_perceptron_tagger')\n",
    "#print(pos_tag(word_tokenize(('I am Sam'))))"
   ]
  },
  {
   "cell_type": "markdown",
   "metadata": {},
   "source": [
    "Détails des significations des tags POS: https://stackoverflow.com/questions/15388831/what-are-all-possible-pos-tags-of-nltk"
   ]
  },
  {
   "cell_type": "markdown",
   "metadata": {},
   "source": [
    "####  Transformation des données:\n",
    "\n",
    "Classe vide : fonction **à compléter** \n",
    "```python\n",
    "def pos_tag_filter(X, good_tags=['NN', 'VB', 'ADJ', 'RB'])\n",
    "``` \n",
    "\n",
    "Ne garder que les noms, adverbes, verbes et adjectifs pour notre modèle. "
   ]
  },
  {
   "cell_type": "code",
   "execution_count": 21,
   "metadata": {},
   "outputs": [],
   "source": [
    "def pos_tag_filter(X, good_tags=['NN', 'VB', 'ADJ', 'RB']):\n",
    "    X_pos = []\n",
    "    \n",
    "    ## On parcourt les éléments de 'X', on retient uniquement les éléments dont le 'ptag' est \n",
    "    ## dans la liste 'good_tags'\n",
    "    \n",
    "    for text in X:\n",
    "        text_pos = \"\"\n",
    "        for ptag in pos_tag(word_tokenize(text)):\n",
    "            # Test d'appartenance\n",
    "            if ptag[1] in good_tags:\n",
    "                # On sépare les mots par un espace, on ajoute le mot de 'ptag' au texte 'text_pos'\n",
    "                text_pos += \" \" + ptag[0]\n",
    "        X_pos.append(text_pos)\n",
    "        \n",
    "    return X_pos"
   ]
  },
  {
   "cell_type": "code",
   "execution_count": 22,
   "metadata": {},
   "outputs": [
    {
     "name": "stdout",
     "output_type": "stream",
     "text": [
      "Score de classification: 0.7464000000000001 (std 0.014164744967700631)\n"
     ]
    }
   ],
   "source": [
    "texts_POS = pos_tag_filter(texts_reduced)\n",
    "voc, X = count_words(texts_POS)\n",
    "nb = NB()\n",
    "\n",
    "scores = cross_val_score(nb, X, y_reduced, cv=5)\n",
    "print('Score de classification: %s (std %s)' % (np.mean(scores), np.std(scores)))"
   ]
  },
  {
   "cell_type": "markdown",
   "metadata": {},
   "source": [
    "On constate une baisse du score : celui-ci est de $0.746$ alors qu'on avait précédemment un score de $0.780$ et de $0.771$ pour le texte après _stemmatization_."
   ]
  },
  {
   "cell_type": "markdown",
   "metadata": {},
   "source": [
    "## Résumé des résultats avec le Classifieur Bayésien Naïf\n",
    "\n",
    "#### Résultats obtenus pour `k=10` (corpus de $2500$ textes)\n",
    "\n",
    "|Méthode |Score de validation croisée|\n",
    "|:------:|:-------------------------:|\n",
    "| Basique|          0.7804 (std 0.02)|\n",
    "|  TF-IDF|          0.783 (std 0.024)|                \n",
    "| Bi-gram|          0.805 (std 0.017)|\n",
    "|Tri-gram|          0.816 (std 0.016)|\n",
    "| Stemmed|         0.7708 (std 0.016)|\n",
    "| POS-tag|         0.7464 (std 0.014)|\n",
    "\n",
    "\n",
    "#### Résultats obtenus pour `k=25` (corpus de $1000$ textes)\n",
    "\n",
    "|Méthode |Score de validation croisée|\n",
    "|:------:|:-------------------------:|\n",
    "| Basique|           0.767 (std 0.02)|\n",
    "|  TF-IDF|           0.749 (std 0.03)|\n",
    "| Bi-gram|           0.797 (std 0.02)|\n",
    "|Tri-gram|           0.801 (std 0.02)|\n",
    "| Stemmed|           0.759 (std 0.02)|\n",
    "| POS-tag|           0.713 (std 0.01)|     "
   ]
  },
  {
   "cell_type": "markdown",
   "metadata": {},
   "source": [
    "### Discussion sur ces résultats\n",
    "\n",
    "- Le _stemming_ et le _POS-tag filtering_ donnent des résultats moins performants que la méthode basique en terme de scores.\n",
    "- Les méthodes utilisant le _bi-gram_ ou le _tri-gram_ sont les plus prometteuses."
   ]
  },
  {
   "cell_type": "markdown",
   "metadata": {},
   "source": [
    "## Utilisation d'un classifieur plus complexe ?\n",
    "\n",
    "On peut utiliser les implémentations scikit-learn de classifieurs moins naïfs, comme la régression logistique ou les SVM. Quel en est l'inconvénient principal (imaginons que, plutôt qu'un modèle linéaire, on choisisse d'utiliser un réseau de neurones à plusieurs couches cachées ?)"
   ]
  },
  {
   "cell_type": "code",
   "execution_count": 23,
   "metadata": {},
   "outputs": [],
   "source": [
    "from sklearn.svm import LinearSVC\n",
    "from sklearn.linear_model import LogisticRegression"
   ]
  },
  {
   "cell_type": "code",
   "execution_count": 24,
   "metadata": {},
   "outputs": [
    {
     "name": "stdout",
     "output_type": "stream",
     "text": [
      "Classification score Régression Logistique: 0.8084 (std 0.007310266752998798)\n",
      "Classification score SVM: 0.7988000000000001 (std 0.008352245207128448)\n"
     ]
    }
   ],
   "source": [
    "pipeline_logistic = Pipeline([\n",
    "    ('vect', CountVectorizer()),\n",
    "    ('clf', LogisticRegression(solver='lbfgs', max_iter = 10000)),\n",
    "])\n",
    "\n",
    "pipeline_svc = Pipeline([\n",
    "    ('vect', CountVectorizer()),\n",
    "    ('clf', LinearSVC(max_iter = 10000)),\n",
    "])\n",
    "\n",
    "scores = cross_val_score(pipeline_logistic, texts_reduced, y_reduced, cv=5)\n",
    "print(\"Classification score Régression Logistique: %s (std %s)\" % (np.mean(scores), np.std(scores)))\n",
    "\n",
    "scores = cross_val_score(pipeline_svc, texts_reduced, y_reduced, cv=5)\n",
    "print(\"Classification score SVM: %s (std %s)\" % (np.mean(scores), np.std(scores)))"
   ]
  },
  {
   "cell_type": "markdown",
   "metadata": {},
   "source": [
    "Les résultats obtenus (`k=10`) sont :\n",
    "\n",
    "| Classifieur | Score de validation croisée |\n",
    "|:--------------:|:---------:|\n",
    "|Régression Logistique| 0.8084 (std 0.007)|\n",
    "|SVM| 0.7988 (std 0.008)|\n",
    "\n",
    "\n",
    "* Les résultats obtenus sont du même ordre voire inférieurs à ceux que nous avions ci-dessus avec le Classifieur Bayésien Naïf, et l'utilisation d'une granularité de $3$. Ils n'offrent donc pas d'amélioration notable.\n",
    "\n",
    "* Pour un jeu de données trop grand, on a un risque d'_overfitting_ pour non seulement la Régression Logistique, mais aussi les SVM.\n",
    "\n",
    "* Nous pouvons également regretter l'absence de modèle probabilistique compréhensible comme c'était le cas avec le Classifieur Bayésien Naïf.\n",
    "\n",
    "* Bien que ce soit le plus simple, le Classifieur Bayésien Naïf doit être préféré dans notre cas aux classifieurs plus complexes."
   ]
  },
  {
   "cell_type": "markdown",
   "metadata": {},
   "source": [
    "# Représentations denses\n",
    "\n",
    "##  Word Embeddings : Représentations distribuées via l'hypothèse distributionelle\n",
    "\n",
    "**But**: On va chercher à obtenir des représentations denses (comme vecteurs de nombres réels) de mots (et éventuellement de phrases). Ces représentations ont vocation à être distribuées: ce sont des représentations non-locales. On représente un objet comme une combinaison de *features*, par opposition à l'attribution d'un symbole dédié: voir le travail fondateur d'entre autres, Geoffrey Hinton, sur le sujet: [Distributed Representations](https://web.stanford.edu/~jlmcc/papers/PDP/Chapter3.pdf).\n",
    "\n",
    "Le terme de représentation *distribuées* est très général, mais correspond à que l'on cherche à obtenir. L'enjeu est donc de pouvoir construire, automatiquement, de telles représentations.\n",
    "\n",
    "**Idée sous-jacente**: Elle est basée sur l'hypothèse distributionelle: les informations contextuelles suffisent à obtenir une représentation viable d'objets linguistiques.\n",
    " - *“For a large class of cases [...] the  meaning  of a word is  its  use in the  language.”* Wittgenstein (Philosophical Investigations, 43 - 1953)\n",
    " - *“You shall know a word by the company it keeps”*, Firth (\"A synopsis of linguistic theory 1930-1955.\" - 1957)\n",
    "\n",
    "Ainsi, on peut caractériser un mot par les mots qui l'accompagnent, via des comptes de co-occurences. Deux mots ayant un sens similaire auront une distribution contextuelle similaire et auront donc plus de chance d'apparaître dans des contextes similaires. Cette hypothèse peut servir de justification à l'application de statistiques à la sémantique (extraction d'information, analyse sémantique). Elle permet aussi une certaine forme de généralisation: on peut supposer que les informations que l'on a à propos d'un mot se généraliseront aux mots à la distribution similaire. \n",
    "\n",
    "**Motivation**: On cherche à obtenir des représentations distribuées pour pouvoir, de manière **efficace**:\n",
    "- Directement réaliser une analyse sémantique de surface.\n",
    "- S'en servir comme source d'informations pour d'autres modèles et applications liées au language, notamment pour l'analyse de sentiments. \n",
    "\n",
    "\n",
    "**Terminologie**: Attention à ne pas confondre l'idée de représentation *distribuée* et *distributionelle*. Le second indique en général (pour les mots) que la représentation a été obtenue strictement à partir de comptes de co-occurences, alors qu'on pourra utiliser des informations supplémentaires (labels de documents, tags de partie du discours, ...) pour construire des représentations distribuées. \n",
    "Les modèles qui permettent de construire ces représentations denses, sous forme de vecteurs, sont souvent appellés *vector spaces models*. On appelle aussi régulièrement ces représentations des *word embeddings*, car les mots sont embarqués (*embedded*) dans un espace vectoriel. En Français, on rencontre souvent le terme *plongements de mots* ou *plongements lexicaux*."
   ]
  },
  {
   "cell_type": "markdown",
   "metadata": {},
   "source": [
    "## Obtenir une représentation: comptes d'occurences et de co-occurences\n",
    "\n",
    "Selon le type de corpus dont on dispose, on pourra obtenir différents types d'informations distributionelles. Si l'on a accès à une collection de documents, on pourra ainsi choisir de compter le nombre d'occurence de chaque mot dans chacun des documents, pour obtenir une matrice $mots \\times documents$: c'est sur ce principe qu'est construit **Tf-Idf**. On va maintenant s'intéresser à un cas plus général: on dispose d'une grande quantité de données sous forme de texte, et on cherche à obtenir des représentations de mots sous forme de vecteurs de taille réduite, sans avoir besoin d'un découpage en documents ou catégories. \n",
    "\n",
    "Supposons qu'on dispose d'un corpus contenant $T$ mots différents. On va construire une matrice $\\mathbf{M}$ de taille $T \\times T$ qui contiendra le nombre de co-occurences entre les mots. Il y aura différents facteurs à considérer lors de la construction de cette matrice: \n",
    "- Comment définir le 'contexte' d'un mot, qui permettra de dire que les termes qu'il contient co-occurent avec ce mot ? On pourra choisir d'utiliser différentes échelles: le document, la phrase, le groupe nominal, ou tout simplement une fenêtre de $k$ mots, selon les informations que l'on cherche à capturer.\n",
    "*Encore une fois, si par exemple notre corpus est divisé en $D$ documents, on pourra même s'intéresser aux liens distributionnels entre mots et documents: chacun de ces $D$ documents agira comme un \"contexte\", et on construit une matrice d'occurences $\\mathbf{M}$ de dimension $T \\times D$, où $\\mathbf{M}_{t,d}$ contient le nombre d'occurences du mot $t$ dans le document $d$.* \n",
    "- Comment quantifier l'importance des comptes ? Par exemple, on pourra donner un poids décroissant à une co-occurence selon la distance entre les deux mots concernés ($\\frac{1}{d+1}$ pour une séparation par $d$ mots).\n",
    "- Faut-il garder tous les mots qui apparaissent dans le corpus ? En général, non. On verra que pour les grands corpus, le nombre de mots différents $T$ est énorme. Deuxièmement, même si le nombre de mots est raisonnable, on ne possèdera que très peu d'information distributionelle sur les mots les plus rares, et la représentation obtenue sera à priori de mauvaise qualité. Il faudra se poser la question de comment filtrer ces mots, et de comment traiter les mots qu'on choisit de ne pas représenter.  "
   ]
  },
  {
   "cell_type": "markdown",
   "metadata": {},
   "source": [
    "#### Procédure\n",
    "\n",
    "Pour construire la matrice, on va dans un premier temps recueillir la liste des mots différents (ou le *vocabulaire* $V$) qui apparaissent dans le corpus sous forme de dictionaire {mots -> index}\n",
    "Puis, pour chaque terme $w$ du corpus,\n",
    "- On récupère l'index $i$ correspondant à l'aide de $V$\n",
    "- Pour chaque terme $w'$ du contexte de $w$, \n",
    "  + On récupère l'index $j$ correspondant à l'aide de $V$\n",
    "  + On incrémente $\\mathbf{M}_{i,j}$ par le poids correspondant, ou par $1$. \n",
    "  \n",
    "La procédure est très proche de celle qu'on a suivi au TP précédent, excepté qu'il faut maintenant compter les mots suivant leur apparition \n",
    "  \n",
    "#### Exemple\n",
    "\n",
    "On considère le corpus suivant: \n",
    "\n",
    "*I walked down down the boulevard. I walked down the avenue. I ran down the boulevard. I walk down the city. I walk down the the avenue.*\n",
    "\n",
    "On choisit de définir le contexte d'un mot comme la phrase à laquelle il appartient, et de ne pas utiliser de poids. \n",
    "On obtient la matrice suivante: \n",
    "\n",
    "|               | I | the | down | walked | boulevard | avenue | walk | ran | city |\n",
    "|---------------|---|-----|------|--------|-----------|--------|------|-----|------|\n",
    "| I             | 0 |      6 |    6 |   2 |         2 |      2 |   2 |    1 |    1 |\n",
    "| the           | 6 |      2 |    7 |   2 |         2 |      3 |   3 |    1 |    1 |\n",
    "| down          | 6 |      7 |    2 |   3 |         3 |      2 |   2 |    1 |    1 |\n",
    "| walked        | 2 |      2 |    3 |   0 |         1 |      1 |   0 |    0 |    0 |\n",
    "| boulevard     | 2 |      2 |    3 |   1 |         0 |      0 |   0 |    1 |    0 |\n",
    "| avenue        | 2 |      3 |    2 |   1 |         0 |      0 |   1 |    0 |    0 |\n",
    "| ran           | 2 |      3 |    2 |   0 |         0 |      1 |   0 |    0 |    1 |\n",
    "| walk          | 1 |      1 |    1 |   0 |         1 |      0 |   0 |    0 |    0 |\n",
    "| city          | 1 |      1 |    1 |   0 |         0 |      0 |   1 |    0 |    1 |"
   ]
  },
  {
   "cell_type": "markdown",
   "metadata": {},
   "source": [
    "### Obtenir un Vocabulaire:\n",
    "\n",
    "Cette fois, on va implémenter séparément une fonction retournant le vocabulaire. Il faudra ici pouvoir contrôler sa taille, que ce soit en indiquant un nombre maximum de mots, ou un nombre minimum d'occurences pour qu'on prenne en compte les mots. On ajoute, à la fin, un mot \"inconnu\" qui remplacera tous les mots qui n'apparaissent pas dans notre vocabulaire 'limité'. "
   ]
  },
  {
   "cell_type": "code",
   "execution_count": 9,
   "metadata": {},
   "outputs": [],
   "source": [
    "from nltk.tokenize import word_tokenize\n",
    "\n",
    "def vocabulary(corpus, count_threshold=1, voc_threshold=0):\n",
    "    \"\"\"    \n",
    "    Function using word counts to build a vocabulary\n",
    "    Params:\n",
    "        corpus (list of list of strings): corpus of sentences\n",
    "        count_threshold (int): number of occurences necessary for a word to be included in the vocabulary\n",
    "        voc_threshold (int): maximum size of the vocabulary - 0 (default) indicates there is no max\n",
    "    Returns:\n",
    "        vocabulary (dictionary): keys: list of distinct words across the corpus\n",
    "                                 values: indexes corresponding to each word sorted by frequency \n",
    "        vocabulary_word_counts (dictionary): keys: list of distinct words across the corpus\n",
    "                                             values: word counts in the corpus\n",
    "    \"\"\"\n",
    "    \n",
    "    # On parcourt tous les textes du corpus 'corpus' et tous les mots de chaque texte 'text'..\n",
    "    # Pour chaque mot, on distingue le cas où il est déjà présent ou non dans le dictionnaire.\n",
    "    \n",
    "    word_counts = {}\n",
    "    for text in corpus:\n",
    "        # On pourrait utiliser `word_tokenize`\n",
    "        for word in clean_and_tokenize(text):\n",
    "            # 'word' est déjà présent dans 'word_counts'\n",
    "            if word in word_counts:\n",
    "                word_counts[word] += 1\n",
    "            # 'word' n'est pas encore présent dans 'word_counts'\n",
    "            else:\n",
    "                word_counts[word] = 1\n",
    "    \n",
    "    # On ne conserve que les mots dont l'occurence est supérieure à 'count_threshold'\n",
    "    filtered_word_counts = {w : word_counts[w] for w in word_counts if word_counts[w] >= count_threshold} \n",
    "   \n",
    "\n",
    "    vocabulary_word_counts = dict()\n",
    "    # Si 'voc_threshold est nul', on conserve tous les mots, il suffit de trier 'filtered_word_counts'\n",
    "    if voc_threshold == 0:\n",
    "        for k, v in sorted(filtered_word_counts.items(), key=lambda x: x[1], reverse = True):\n",
    "            vocabulary_word_counts[k] = v\n",
    "        # S'il n'existe pas, on crée 'UNK'\n",
    "        if 'UNK' not in vocabulary_word_counts:\n",
    "            vocabulary_word_counts['UNK'] = 0\n",
    "            \n",
    "    else:\n",
    "        # Sinon, on crée 'tmp', qui correspond à 'filtered_word_counts' ordonné\n",
    "        tmp = {}\n",
    "        for k, v in sorted(filtered_word_counts.items(), key=lambda x: x[1], reverse = True):\n",
    "            tmp[k] = v\n",
    "        \n",
    "        # On va incrémenter négativement 'voc_thr'\n",
    "        voc_thr = voc_threshold-1\n",
    "        # On parcourt le dictionnaire ordonné 'tmp'\n",
    "        for word in tmp:\n",
    "            # Si on est encore dans la limite du vocabulaire\n",
    "            if voc_thr > 0:\n",
    "                voc_thr -= 1\n",
    "                # On ajoute le mot 'word' comme clef et son occurence comme valeur au dictionnaire\n",
    "                vocabulary_word_counts[word] = tmp[word]\n",
    "            # Sinon ce sera le mot inconnu 'UNK'\n",
    "            else:\n",
    "                # S'il existe déjà on augmente l'occurence des mots inconnus\n",
    "                if 'UNK' in vocabulary_word_counts:\n",
    "                    vocabulary_word_counts['UNK'] += tmp[word]\n",
    "                # Sinon on crée l'entrée 'UNK'\n",
    "                else:\n",
    "                    vocabulary_word_counts['UNK'] = tmp[word]\n",
    "        # S'il n'existe pas, on crée 'UNK'\n",
    "        if 'UNK' not in vocabulary_word_counts:\n",
    "            vocabulary_word_counts['UNK'] = 0\n",
    "    \n",
    "    # On parcourt le dictionnaire 'vocabulary_word_counts' qui est trié par construction afin de construire le\n",
    "    # dictionnaire 'vocabulary' en incrémentant une variable 'index' qui correspond à un rang selon la fréquence\n",
    "    \n",
    "    vocabulary = {}\n",
    "    index = 0\n",
    "    for elt in vocabulary_word_counts:\n",
    "        vocabulary[elt] = index\n",
    "        index += 1\n",
    "        \n",
    "    return vocabulary, vocabulary_word_counts"
   ]
  },
  {
   "cell_type": "code",
   "execution_count": 10,
   "metadata": {},
   "outputs": [
    {
     "name": "stdout",
     "output_type": "stream",
     "text": [
      "{'down': 0, 'the': 1, 'UNK': 2}\n",
      "{'down': 6, 'the': 6, 'UNK': 0}\n",
      "{'down': 0, 'the': 1, 'walked': 2, 'boulevard': 3, 'avenue': 4, 'walk': 5, 'ran': 6, 'city': 7, 'UNK': 8}\n",
      "{'down': 6, 'the': 6, 'walked': 2, 'boulevard': 2, 'avenue': 2, 'walk': 2, 'ran': 1, 'city': 1, 'UNK': 0}\n"
     ]
    }
   ],
   "source": [
    "# Example for testing:\n",
    "\n",
    "corpus = ['I walked down down the boulevard',\n",
    "          'I walked down the avenue',\n",
    "          'I ran down the boulevard',\n",
    "          'I walk down the city',\n",
    "          'I walk down the the avenue']\n",
    "\n",
    "voc, counts = vocabulary(corpus, count_threshold = 3)\n",
    "print(voc)\n",
    "print(counts)\n",
    "\n",
    "# We expect something like this:\n",
    "#  {'down': 0, 'the': 1, 'i': 2, 'UNK': 3}\n",
    "#  {'down': 6, 'the': 6, 'i': 5, 'UNK': 0}\n",
    "\n",
    "voc, counts = vocabulary(corpus)\n",
    "print(voc)\n",
    "print(counts)\n",
    "\n",
    "# We expect something like this:\n",
    "#  {'down': 0, 'the': 1, 'i': 2, 'walked': 3, 'boulevard': 4, 'avenue': 5, 'walk': 6, 'ran': 7, 'city': 8, 'UNK': 9}\n",
    "#  {'down': 6, 'the': 6, 'i': 5, 'walked': 2, 'boulevard': 2, 'avenue': 2, 'walk': 2, 'ran': 1, 'city': 1, 'UNK': 0}"
   ]
  },
  {
   "cell_type": "markdown",
   "metadata": {},
   "source": [
    "- Ici, on ne retrouve pas exactement ce qui est suggéré : cependant, on peut vérifier qu'en remplaçant `clean_and_tokenize` par `nltk.tokenize.word_tokenize` dans la fonction `vocabulary`, on obtient exactement le résultat suivant :\n",
    "\n",
    "```css\n",
    "{'down': 0, 'the': 1, 'i': 2, 'UNK': 3}\n",
    "{'down': 6, 'the': 6, 'i': 5, 'UNK': 0}\n",
    "{'down': 0, 'the': 1, 'i': 2, 'walked': 3, 'boulevard': 4, 'avenue': 5, 'walk': 6, 'ran': 7, 'city': 8, 'UNK': 9}\n",
    "{'down': 6, 'the': 6, 'i': 5, 'walked': 2, 'boulevard': 2, 'avenue': 2, 'walk': 2, 'ran': 1, 'city': 1, 'UNK': 0}\n",
    "```\n",
    "\n",
    "- On préférera cependant l'implémentation de  `vocabulary` avec `clean_and_tokenize` pour la suite du TP."
   ]
  },
  {
   "cell_type": "markdown",
   "metadata": {},
   "source": [
    "### Obtenir les co-occurences:\n",
    "\n",
    "La fonction prend en entrée le corpus (une liste de strings, correspondant aux documents, ou phrases) et un vocabulaire, ainsi que la taille de la fenêtre de contexte. On pourra aussi implémenter la solution la plus simple - que le contexte d'un mot soit le reste du document duquel il provient. \n",
    "Enfin, on pourra implémenter la possibilité de faire décroitre linéairement l'importance d'un mot du contexte à mesure qu'on s'éloigne du mot d'origine. "
   ]
  },
  {
   "cell_type": "code",
   "execution_count": 11,
   "metadata": {},
   "outputs": [],
   "source": [
    "def co_occurence_matrix(corpus, vocabulary, window=0, distance_weighting=False):\n",
    "    np.seterr(divide='ignore', invalid='ignore')\n",
    "    \"\"\"\n",
    "    Params:\n",
    "        corpus (list of list of strings): corpus of sentences\n",
    "        vocabulary (dictionary): words to use in the matrix\n",
    "        window (int): size of the context window; when 0, the context is the whole sentence\n",
    "        distance_weighting (bool): indicates if we use a weight depending on the distance between words for co-oc counts\n",
    "    Returns:\n",
    "        matrix (array of size (len(vocabulary), len(vocabulary))): the co-oc matrix, using the same ordering as the vocabulary given in input    \n",
    "    \"\"\" \n",
    "    l = len(vocabulary)\n",
    "    M = np.zeros((l,l))\n",
    "    for sent in corpus:\n",
    "        # Obtenir la phrase:\n",
    "        sent = word_tokenize(sent)\n",
    "        # Obtenir les indexs de la phrase grace au vocabulaire: \n",
    "        sent_idx = []\n",
    "        ind_unk = len(vocabulary)-1\n",
    "        for w in sent:\n",
    "            if w in vocabulary:\n",
    "                sent_idx.append(vocabulary[w])\n",
    "            else:\n",
    "                sent_idx.append(ind_unk)\n",
    "        # Parcourir les indexs de la phrase et ajouter 1 / dist(i,j) à M[i,j] si les mots d'index i et j apparaissent dans la même fenêtre. \n",
    "        for i, idx_i in enumerate(sent_idx):\n",
    "            # On vérifie que le mot est reconnu par le vocabulaire:\n",
    "            if idx_i > -1:\n",
    "                # Si on considère un contexte limité:\n",
    "                if window > 0:\n",
    "                    # On crée une liste qui contient les indexs de la fenêtre à gauche de l'index courant 'idx_i'\n",
    "                    l_ctx_idx = [sent_idx[jj] for jj in range(max(i-window, 0),i)]\n",
    "                # Si on considère que le contexte est la phrase entière:\n",
    "                else:\n",
    "                    # La liste qui contient le contexte à gauche du mot est plus facile à créer:\n",
    "                    l_ctx_idx = [sent_idx[jj] for jj in range(len(sent_idx)) if jj != i]\n",
    "                # On parcourt cette liste et on update M[i,j]:    \n",
    "                for j, idx_j in enumerate(l_ctx_idx):\n",
    "                    # ... en s'assurant que le mot correspondant à 'idx_j' est reconnu par le vocabulaire\n",
    "                    if idx_j > -1:\n",
    "                        # Calcul du poids:\n",
    "                        if distance_weighting:\n",
    "                            # Le poids est l'inverse de la distance entre i et j, le facteur 1/2 est chosi car\n",
    "                            # les poids sont affectés deux fois par construction\n",
    "                            # Le poids est de l'ordre de 1 / (d+1) où d est la distance entre 'i' et 'j'\n",
    "                            weight = .5 / (np.abs(i - j) + 1)\n",
    "                        else:\n",
    "                            weight = 0.5\n",
    "                        M[idx_i, idx_j] += weight * 1.0\n",
    "                        M[idx_j, idx_i] += weight * 1.0\n",
    "    return M  "
   ]
  },
  {
   "cell_type": "code",
   "execution_count": 12,
   "metadata": {},
   "outputs": [
    {
     "name": "stdout",
     "output_type": "stream",
     "text": [
      "[[2. 7. 3. 3. 2. 2. 1. 1. 6.]\n",
      " [7. 2. 2. 2. 3. 3. 1. 1. 6.]\n",
      " [3. 2. 0. 1. 1. 0. 0. 0. 2.]\n",
      " [3. 2. 1. 0. 0. 0. 1. 0. 2.]\n",
      " [2. 3. 1. 0. 0. 1. 0. 0. 2.]\n",
      " [2. 3. 0. 0. 1. 0. 0. 1. 2.]\n",
      " [1. 1. 0. 1. 0. 0. 0. 0. 1.]\n",
      " [1. 1. 0. 0. 0. 1. 0. 0. 1.]\n",
      " [6. 6. 2. 2. 2. 2. 1. 1. 0.]]\n"
     ]
    }
   ],
   "source": [
    "print(co_occurence_matrix(corpus, voc, 0, False))\n",
    "# Attention: les résultats sont différents de l'exemple plus haut car le vocabulaire n'est pas exactement le même: vérifiez par vous même."
   ]
  },
  {
   "cell_type": "markdown",
   "metadata": {},
   "source": [
    "#### Application à un vrai jeu de données\n",
    "\n",
    "On va chercher à obtenir ces comptes pour les données **imdb**.\n",
    "\n",
    "#### Etude rapide des données\n",
    "\n",
    "On voudrait ici, avant de procéder, avoir une idée de ce que contiennent ces critiques de films. On va donc obtenir le vocabulaire (entier) et représenter les fréquences des mots, dans l'ordre (attention, il faudra utiliser une échelle logarithmique): on devrait retrouver la loi de Zipf. Cela nous permettra d'avoir une idée de la taille du vocabulaire qu'on pourra choisir : il s'agit de réaliser un compromis entre les ressources nécessaires (taille des objets en mémoire) et quantité d'informations qu'on peut en tirer (les mots rares peuvent apporter beaucoup d'informations, mais il est difficile d'en apprendre de bonnes représentations,car ils sont rares !)  "
   ]
  },
  {
   "cell_type": "code",
   "execution_count": 13,
   "metadata": {},
   "outputs": [],
   "source": [
    "corpus = texts\n",
    "\n",
    "vocab, word_counts = vocabulary(corpus)\n",
    "rank_counts = {w:[vocab[w], word_counts[w]] for w in vocab}\n",
    "rank_counts_array = np.array(list(rank_counts.values()))"
   ]
  },
  {
   "cell_type": "code",
   "execution_count": 14,
   "metadata": {
    "scrolled": true
   },
   "outputs": [
    {
     "data": {
      "image/png": "[encoded data removed]",
      "text/plain": [
       "<Figure size 1440x432 with 1 Axes>"
      ]
     },
     "metadata": {
      "needs_background": "light"
     },
     "output_type": "display_data"
    }
   ],
   "source": [
    "plt.figure(figsize=(20,6))\n",
    "plt.title('Word counts versus rank')\n",
    "# plt.scatter(rank_counts_array[:,0], rank_counts_array[:,1], marker=\"+\")\n",
    "plt.plot(rank_counts_array[:,0], rank_counts_array[:,1], linewidth=2, color = 'blue')\n",
    "plt.yscale('log')\n",
    "plt.xlabel('Word Rank')\n",
    "plt.ylabel('Word counts')\n",
    "plt.show()"
   ]
  },
  {
   "cell_type": "markdown",
   "metadata": {},
   "source": [
    "- On retrouve bien la représentation de la loi de Zipf : la fréquence d'un mot est approximativement inversement proportionnelle à son rang. La représentation à angles rectangulaires pour les mots de rangs élevés est liée à l'échelle logarihmique qui impose cette représentation peu esthétique."
   ]
  },
  {
   "cell_type": "code",
   "execution_count": 15,
   "metadata": {},
   "outputs": [
    {
     "name": "stdout",
     "output_type": "stream",
     "text": [
      "Vocabulary size: 105978\n",
      "Part of the corpus by taking the \"x\" most frequent words:\n",
      "5000 : 0.87\n",
      "15000 : 0.95\n",
      "25000 : 0.97\n",
      "35000 : 0.98\n",
      "45000 : 0.98\n",
      "55000 : 0.99\n",
      "65000 : 0.99\n",
      "75000 : 0.99\n",
      "85000 : 1.00\n",
      "95000 : 1.00\n",
      "105000 : 1.00\n"
     ]
    }
   ],
   "source": [
    "print('Vocabulary size: %i' % len(vocab))\n",
    "print('Part of the corpus by taking the \"x\" most frequent words:')\n",
    "for i in range(5000, len(vocab), 10000):\n",
    "    print('%i : %.2f' % (i, np.sum(rank_counts_array[:i, 1]) / np.sum(rank_counts_array[:,1]) ))"
   ]
  },
  {
   "cell_type": "markdown",
   "metadata": {},
   "source": [
    "Résultat de l'analyse: on peut se contenter d'un vocabulaire de 10000, voire 5000 mots - c'est important, car cela va déterminer la taille des objets que l'on va manipuler. On va maintenant recréer la matrice de co-occurence avec différents paramètres. Cela peut-être long: si cela pose problème, travaillez avec un vocabulaire plus réduit."
   ]
  },
  {
   "cell_type": "code",
   "execution_count": 16,
   "metadata": {},
   "outputs": [
    {
     "name": "stdout",
     "output_type": "stream",
     "text": [
      "(5000, 5000)\n",
      "(5000, 5000)\n"
     ]
    }
   ],
   "source": [
    "vocab_5k, word_counts_5k = vocabulary(corpus, 0, 5000)\n",
    "M5dist = co_occurence_matrix(corpus, vocab_5k, window=5, distance_weighting=True)\n",
    "M20 = co_occurence_matrix(corpus, vocab_5k, window=20, distance_weighting=False)\n",
    "print(M5dist.shape)\n",
    "print(M20.shape)"
   ]
  },
  {
   "cell_type": "code",
   "execution_count": 17,
   "metadata": {},
   "outputs": [
    {
     "name": "stdout",
     "output_type": "stream",
     "text": [
      "411\n",
      "[ 9.60200929  2.65424656  1.91615234 ...  0.          0.\n",
      " 79.77124659]\n",
      "[ 1035.5   521.5   251.5 ...     0.      0.  11185.5]\n"
     ]
    }
   ],
   "source": [
    "print(vocab_5k['cinema'])\n",
    "print(M5dist[411])\n",
    "print(M20[411])"
   ]
  },
  {
   "cell_type": "markdown",
   "metadata": {},
   "source": [
    "### Comparaison de vecteurs\n",
    "\n",
    "On peut se servir de ces vecteurs de très grande taille pour une analyse sémantique très basique: par exemple, en cherchant les plus proches voisins d'un mot. Cependant, il faudra faire attention aux distances qu'on utilise, liées à certaines métriques (Euclidiennes, Cosine) ou éventuellement d'autres liées à l'appartenance aux ensembles (Matching, Jaccard). La normalisation des vecteurs peut aussi jouer un rôle. Dans tous les cas, il faut bien faire attention à ne pas sur-interprêter ce type de résultats. "
   ]
  },
  {
   "cell_type": "code",
   "execution_count": 18,
   "metadata": {},
   "outputs": [
    {
     "name": "stdout",
     "output_type": "stream",
     "text": [
      "Avec un contexte large, sans prendre en compte la distance entre les mots:\n",
      "Plus proches voisins de good selon la distance 'euclidean': \n",
      "[['some', 'more', 'very', 'would', 'what', 'there', 'which', 'can', 'out']]\n",
      "Plus proches voisins de good selon la distance 'cosine': \n",
      "[['great', 'decent', 'really', 'just', 'still', 'very', 'not', 'nice', 'lot']]\n",
      "\n",
      "Avec un contexte plus petit, et en réduisant l'impact des paires de mots selon leur distance:\n",
      "Plus proches voisins de good selon la distance 'euclidean': \n",
      "[['very', 'really', 'out', 'just', 'had', 'who', 'first', 'story', 'what']]\n",
      "Plus proches voisins de good selon la distance 'cosine': \n",
      "[['great', 'bad', 'funny', 'interesting', 'very', 'decent', 'well', 'the', 'little']]\n"
     ]
    }
   ],
   "source": [
    "def euclidean(u, v):\n",
    "    return np.linalg.norm(u-v)\n",
    "\n",
    "def length_norm(u):\n",
    "    return u / np.sqrt(u.dot(u))\n",
    "\n",
    "def cosine(u, v):\n",
    "    return 1.0 - length_norm(u).dot(length_norm(v))\n",
    "\n",
    "from sklearn.neighbors import NearestNeighbors\n",
    "\n",
    "def print_neighbors(distance, voc, co_oc, mot, k=10):  \n",
    "    np.seterr(divide='ignore', invalid='ignore')\n",
    "    inv_voc = {id: w for w, id in voc.items()}\n",
    "    neigh = NearestNeighbors(k, algorithm='brute', metric=distance)\n",
    "    neigh.fit(co_oc) \n",
    "    dist, ind = neigh.kneighbors([co_oc[voc[mot]]])\n",
    "    print(\"Plus proches voisins de %s selon la distance '%s': \" % (mot, distance.__name__))\n",
    "    print([[inv_voc[i] for i in s[1:]] for s in ind])\n",
    "    \n",
    "print(\"Avec un contexte large, sans prendre en compte la distance entre les mots:\")    \n",
    "print_neighbors(euclidean, vocab_5k, M20, 'good')\n",
    "print_neighbors(cosine, vocab_5k, M20, 'good')\n",
    "print(\"\")\n",
    "print(\"Avec un contexte plus petit, et en réduisant l'impact des paires de mots selon leur distance:\")    \n",
    "print_neighbors(euclidean, vocab_5k, M5dist, 'good')\n",
    "print_neighbors(cosine, vocab_5k, M5dist, 'good') "
   ]
  },
  {
   "cell_type": "markdown",
   "metadata": {},
   "source": [
    "**Normalisation**: Très simple; il s'agit d'annuler l'influence de la magnitude des comptes sur la représentation.\n",
    "\n",
    "$$\\mathbf{m_{normalized}} = \\left[ \n",
    "   \\frac{m_{1}}{\\sum_{i=1}^{n}m_{i}}, \n",
    "   \\frac{m_{2}}{\\sum_{i=1}^{n}m_{i}}, \n",
    "   \\ldots\n",
    "   \\frac{m_{n}}{\\sum_{i=1}^{n}m_{i}}, \n",
    "\\right]$$\n",
    " \n",
    "**Pointwise Mutual Information**: Il s'agit d'évaluer à quel point la co-occurence des deux termes est *inattendue*. En effet, cette mesure correspond au ratio de la probabilité jointe des deux mots et du produit de leur probabilités individuelles:\n",
    "$$\n",
    "\\text{PMI}(x,y) = \\log \\left( \\frac{P(x,y)}{P(x)P(y)} \\right)\n",
    "$$\n",
    "La probabilité jointe des deux mots correspond au nombre de fois ou on les observe ensemble, divisé par le nombre total de co-occurences du corpus: \n",
    "$$ P(\\mathbf{M},w_{1},w_{2}) = \\frac{M_{w_{1},w_{2}}}{\\sum_{i=1}^{n}\\sum_{j=1}^{n} M_{i,j}} $$\n",
    "La probabilité individuelle d'un mot correspond simplement à sa fréquence, que l'on peut calculer en comptant toutes les co-occurences ou ce mot apparaît:\n",
    "$$ P(\\mathbf{M},w) = \\frac{\\sum_{j=1}^{m} M_{w,j}}{\\sum_{i=1}^{n}\\sum_{j=1}^{n} M_{i,j}} $$\n",
    "Ainsi,\n",
    "$$ \n",
    "\\text{PMI}(\\mathbf{M},w_{1},w_{2}) = \\log  \\frac{M_{w_{1},w_{2}} \\times \\left( \\sum_{i=1}^{n}\\sum_{j=1}^{n} M_{i,j} \\right)}{\\left( \\sum_{j=1}^{n} M_{w_{1},j} \\right) \\times \\left( \\sum_{i=1}^{n}M_{i,w_{2}} \\right)} \n",
    "$$\n",
    "On calcule ainsi le décalage entre l'observation que l'on a fait dans notre corpus et la fréquence d'apparition de ces termes si on les considère indépendant - c'est à dire qu'on suppose que leur co-occurence est une coïncidence.\n",
    "\n",
    "Le principal problème avec cette mesure est qu'elle n'est pas adaptée au cas où l'on observe aucune co-occurence. Puisque la PMI est censée renvoyer une quantité positive si l'on observe plus de co-occurences que prévu, et négative si l'on en observe moins, on ne peut pas choisir de remplacer $\\log(0)$ par $0$. Une solution couramment utilisée est d'utiliser la **Positive PMI**, qui fixe toutes les valeurs négatives à $0$.\n",
    " \n",
    " $$\\text{PPMI}(\\mathbf{M},w_{1},w_{2}) = \n",
    " \\begin{cases}\n",
    " \\text{PMI}(\\mathbf{M},w_{1},w_{2}) & \\textrm{if } \\text{PMI}(\\mathbf{M},w_{1},w_{2}) > 0 \\\\\n",
    " 0 & \\textrm{otherwise}\n",
    " \\end{cases}$$"
   ]
  },
  {
   "cell_type": "code",
   "execution_count": 19,
   "metadata": {},
   "outputs": [],
   "source": [
    "def pmi(co_oc, positive=True):\n",
    "    sum_vec = co_oc.sum(axis=0)\n",
    "    sum_tot = sum_vec.sum()\n",
    "    with np.errstate(divide='ignore', invalid='ignore'):\n",
    "        pmi = np.log((co_oc * sum_tot) / (np.outer(sum_vec, sum_vec)))                   \n",
    "    pmi[np.isinf(pmi)] = 0.0  # log(0) = 0\n",
    "    pmi[np.isnan(pmi)] = 0.0\n",
    "    if positive:\n",
    "        pmi[pmi < 0] = 0.0\n",
    "    return pmi"
   ]
  },
  {
   "cell_type": "code",
   "execution_count": 20,
   "metadata": {},
   "outputs": [
    {
     "name": "stdout",
     "output_type": "stream",
     "text": [
      "Avec la PPMI5:\n",
      "Plus proches voisins de good selon la distance 'euclidean': \n",
      "[['UNK', 'rochester', 'curtis', 'arnold', 'better<', 'dorothy', 'movies<', 'stanwyck', 'lloyd']]\n",
      "Plus proches voisins de good selon la distance 'cosine': \n",
      "[['decent', 'great', 'and', 'interesting', 'some', 'but', 'pretty', 'bad', 'are']]\n",
      "Avec la PPMI20:\n",
      "Plus proches voisins de good selon la distance 'euclidean': \n",
      "[['UNK', 'wanna', 'rachel', 'hitchcock', 'hoffman', 'michelle', 'elizabeth', '>theres', 'again<']]\n",
      "Plus proches voisins de good selon la distance 'cosine': \n",
      "[['some', 'well', 'but', 'was', 'this', 'great', 'acting', 'and', 'bad']]\n"
     ]
    }
   ],
   "source": [
    "PPMI5 = pmi(M5dist)\n",
    "PPMI20 = pmi(M20)\n",
    "\n",
    "print(\"Avec la PPMI5:\")    \n",
    "print_neighbors(euclidean, vocab_5k, PPMI5, 'good')\n",
    "print_neighbors(cosine, vocab_5k, PPMI5, 'good')\n",
    "print(\"Avec la PPMI20:\")   \n",
    "print_neighbors(euclidean, vocab_5k, PPMI20, 'good')\n",
    "print_neighbors(cosine, vocab_5k, PPMI20, 'good')"
   ]
  },
  {
   "cell_type": "markdown",
   "metadata": {},
   "source": [
    "**TF-IDF**: Comme on l'a déjà vu, il s'agit du produit de la fréquence du terme (TF) et de sa fréquence inverse dans les documents (IDF). \n",
    "Cette méthode est habituellement utilisée pour extraire l'importance d'un terme $i$ dans un document $j$ relativement au reste du corpus, à partir d'une matrice $termes \\times documents$. Ainsi, pour une matrice $\\mathbf{X}$ de $n$ termes et $d$ documents: \n",
    "\n",
    " $$\\text{TF}(X, i, j) = \\frac{X_{i,j}}{\\sum_{i=1}^{t} X_{i,j}} $$\n",
    " \n",
    " $$\\text{IDF}(X, i) = \\log\\left(\\frac{d}{|\\{j : X_{i,j} > 0\\}|}\\right)$$\n",
    " \n",
    " $$\\text{TF-IDF}(X, i, j) = \\text{TF}(X, i, j) \\cdot \\text{IDF}(X, i)$$\n",
    "\n",
    "\n",
    "On peut l'adapter à notre cas en considérant que le contexte du deuxième mot est le document. Cependant, TF-IDF est généralement plus adaptée aux matrices peu denses, puisque cette mesure pénalisera les termes qui apparaissent dans une grande partie des documents. Ainsi, l'appliquer aux co-occurences des mots les plus fréquents n'est à priori pas optimal."
   ]
  },
  {
   "cell_type": "code",
   "execution_count": 21,
   "metadata": {},
   "outputs": [],
   "source": [
    "def tfidf(co_oc):\n",
    "    np.seterr(divide='ignore', invalid='ignore')\n",
    "    \"\"\"\n",
    "    Inverse document frequencies applied to our co_oc matrices\n",
    "    \"\"\"\n",
    "    # IDF\n",
    "    d = float(co_oc.shape[1])\n",
    "    in_doc = co_oc.astype(bool).sum(axis=1)\n",
    "    #in_doc[in_doc==0] = 0.01\n",
    "    with np.errstate(divide='ignore', invalid='ignore'):\n",
    "        idfs = np.log(d / in_doc)\n",
    "    idfs[np.isinf(idfs)] = 0.0  # log(0) = 0\n",
    "    # TF\n",
    "    sum_vec = co_oc.sum(axis=0)\n",
    "    tfs = co_oc / sum_vec\n",
    "    res = (tfs.T * idfs).T\n",
    "    res[np.isnan(res)] = 0.0\n",
    "    return res"
   ]
  },
  {
   "cell_type": "code",
   "execution_count": 22,
   "metadata": {},
   "outputs": [
    {
     "name": "stdout",
     "output_type": "stream",
     "text": [
      "Avec TF-IDF:\n",
      "Plus proches voisins de good selon la distance 'euclidean': \n",
      "[['robin', 'sudden', 'necessary', 'worried', 'conclusion', 'questionable', 'credible', 'dub', 'overlook']]\n",
      "Plus proches voisins de good selon la distance 'cosine': \n",
      "[['UNK', 'pretty', 'and', 'the', 'but', 'dalton', 'that', 'was', 'very']]\n"
     ]
    }
   ],
   "source": [
    "TFIDF5 = tfidf(M5dist)\n",
    "\n",
    "print(\"Avec TF-IDF:\")    \n",
    "print_neighbors(euclidean, vocab_5k, TFIDF5, 'good')\n",
    "print_neighbors(cosine, vocab_5k, TFIDF5, 'good')"
   ]
  },
  {
   "cell_type": "markdown",
   "metadata": {},
   "source": [
    "### Tests pour différents mots : _good_ -  _disgusting_ - _beautiful_"
   ]
  },
  {
   "cell_type": "code",
   "execution_count": 23,
   "metadata": {},
   "outputs": [
    {
     "name": "stdout",
     "output_type": "stream",
     "text": [
      "Avec la PPMI5:\n",
      "Plus proches voisins de good selon la distance 'cosine': \n",
      "[['decent', 'great', 'and', 'interesting', 'some', 'but', 'pretty', 'bad', 'are']]\n",
      "Avec la PPMI20:\n",
      "Plus proches voisins de good selon la distance 'cosine': \n",
      "[['some', 'well', 'but', 'was', 'this', 'great', 'acting', 'and', 'bad']]\n",
      "Avec TF-IDF:\n",
      "Plus proches voisins de good selon la distance 'cosine': \n",
      "[['UNK', 'pretty', 'and', 'the', 'but', 'dalton', 'that', 'was', 'very']]\n"
     ]
    }
   ],
   "source": [
    "w = 'good'\n",
    "\n",
    "print(\"Avec la PPMI5:\")    \n",
    "print_neighbors(cosine, vocab_5k, PPMI5, w)\n",
    "\n",
    "print(\"Avec la PPMI20:\")   \n",
    "print_neighbors(cosine, vocab_5k, PPMI20, w)\n",
    "\n",
    "print(\"Avec TF-IDF:\")\n",
    "print_neighbors(cosine, vocab_5k, TFIDF5, w)"
   ]
  },
  {
   "cell_type": "code",
   "execution_count": 24,
   "metadata": {},
   "outputs": [
    {
     "name": "stdout",
     "output_type": "stream",
     "text": [
      "Avec la PPMI5:\n",
      "Plus proches voisins de disgusting selon la distance 'cosine': \n",
      "[['offensive', 'crude', 'hilarious', 'downright', 'and', 'nudity', 'jokes', 'sex', 'sometimes']]\n",
      "Avec la PPMI20:\n",
      "Plus proches voisins de disgusting selon la distance 'cosine': \n",
      "[['nudity', 'violence', 'sex', 'disturbing', 'sick', 'stupid', 'gore', 'images', 'blood']]\n",
      "Avec TF-IDF:\n",
      "Plus proches voisins de disgusting selon la distance 'cosine': \n",
      "[['billy', 'jokes', 'inane', 'cuts', 'eating', 'sees', 'wind', 'countries', 'american']]\n"
     ]
    }
   ],
   "source": [
    "w = 'disgusting'\n",
    "\n",
    "print(\"Avec la PPMI5:\")\n",
    "print_neighbors(cosine, vocab_5k, PPMI5, w)\n",
    "\n",
    "print(\"Avec la PPMI20:\")\n",
    "print_neighbors(cosine, vocab_5k, PPMI20, w)\n",
    "\n",
    "print(\"Avec TF-IDF:\")\n",
    "print_neighbors(cosine, vocab_5k, TFIDF5, w)"
   ]
  },
  {
   "cell_type": "code",
   "execution_count": 25,
   "metadata": {},
   "outputs": [
    {
     "name": "stdout",
     "output_type": "stream",
     "text": [
      "Avec la PPMI5:\n",
      "Plus proches voisins de beautiful selon la distance 'cosine': \n",
      "[['gorgeous', 'and', 'breathtaking', 'scenery', 'cinematography', 'stunning', 'shots', 'with', 'beauty']]\n",
      "Avec la PPMI20:\n",
      "Plus proches voisins de beautiful selon la distance 'cosine': \n",
      "[['cinematography', 'beauty', 'and', 'gorgeous', 'scenery', 'stunning', 'wonderful', 'score', 'atmosphere']]\n",
      "Avec TF-IDF:\n",
      "Plus proches voisins de beautiful selon la distance 'cosine': \n",
      "[['surrounded', 'host', 'dozen', 'interested', 'breathtaking', 'and', 'UNK', 'reflect', 'the']]\n"
     ]
    }
   ],
   "source": [
    "w = 'beautiful'\n",
    "\n",
    "print(\"Avec la PPMI5:\")\n",
    "print_neighbors(cosine, vocab_5k, PPMI5, w)\n",
    "\n",
    "print(\"Avec la PPMI20:\")\n",
    "print_neighbors(cosine, vocab_5k, PPMI20, w)\n",
    "\n",
    "print(\"Avec TF-IDF:\")\n",
    "print_neighbors(cosine, vocab_5k, TFIDF5, w)"
   ]
  },
  {
   "cell_type": "markdown",
   "metadata": {},
   "source": [
    "- On remarque que pour les trois méthodes, les résultats obtenus avec la métrique euclidienne sont aberrants. On ne s'intéresse donc désormais qu'aux résultats obtenus avec la métrique cosinus.\n",
    "\n",
    "- On constate que les résultats obtenus avec la PPMI sont effectivement bien plus pertinents que ceux obtenus avec TF-IDF."
   ]
  },
  {
   "cell_type": "markdown",
   "metadata": {},
   "source": [
    "### Matrice de co-occurences : Réduction de dimension\n",
    "\n",
    "#### Motivation\n",
    "\n",
    "Il s'agit non seulement de réduire la taille de données (ainsi, on traitera des vecteurs de dimension réduite, plutôt que de travailler avec des vecteurs de la taille du vocabulaire) mais aussi de mettre en évidence des relations de plus haut niveau entre les mots: en réduisant leurs représentations aux dimensions qui *les plus importantes* des données, on se retrouve à *généraliser* certaines propriétés entre les mots.\n",
    "\n",
    "#### Réduction de dimension via SVD \n",
    "\n",
    "Une matrice est une transformation linéaire: y appliquer une SVD, c'est décomposer notre transformation linéaire en un produit de transformations linéaires de différents types. Il va s'agir d'effectuer un changement de base, et de replacer nos données dans un espace ou chacune des coordonnées sont inchangées par la transformation effectuée. Ainsi, on décompose la matrice $\\mathbf{M}$ en trois matrices:\n",
    "\n",
    "$$ \\mathbf{M} = \\mathbf{U} \\mathbf{\\lambda} \\mathbf{V}^{\\text{T}} $$\n",
    "\n",
    "Les matrices $\\mathbf{U}$, $\\mathbf{\\lambda}$, et $\\mathbf{V}$ ont les propriétés suivantes:\n",
    "- $\\mathbf{U}$ et $\\mathbf{V}$ sont des matrices orthogonales ($\\mathbf{U}^{\\text{T}} = \\mathbf{U}^{-1}$ et $\\mathbf{V}^{\\text{T}} = \\mathbf{V}^{-1}$). Elles contiennent les vecteurs propres à gauche et à droite de $\\mathbf{M}$.\n",
    "- $\\mathbf{\\lambda}$ est une matrice diagonale: attention, elle n'est pas forcément carrée. Les coefficients de la diagonale sont les valeurs propres de $\\mathbf{M}$.\n",
    "\n",
    "Ainsi, les dmensions *les plus importantes* correspondent aux plus grandes valeurs propres. Réduire nos données à une dimension $k$ correspond à ne garder que les vecteurs correspondant aux $k$ premières valeurs propres - et cela revient à prendre les $k$ premiers vecteurs de la matrice $U$. \n",
    "On utilise ici ```TruncatedSVD``` du package ```scikit-learn```:"
   ]
  },
  {
   "cell_type": "code",
   "execution_count": 26,
   "metadata": {},
   "outputs": [
    {
     "name": "stdout",
     "output_type": "stream",
     "text": [
      "(5000, 300)\n",
      "Plus proches voisins de good selon la distance 'euclidean': \n",
      "[['very', 'really', 'out', 'just', 'had', 'who', 'first', 'story', 'what']]\n",
      "Plus proches voisins de good selon la distance 'cosine': \n",
      "[['great', 'bad', 'funny', 'interesting', 'decent', 'very', 'well', 'similar', 'obviously']]\n"
     ]
    }
   ],
   "source": [
    "from sklearn.decomposition import TruncatedSVD\n",
    "svd = TruncatedSVD(n_components=300)\n",
    "SVDEmbeddings = svd.fit_transform(M5dist)\n",
    "print(SVDEmbeddings.shape)\n",
    "SVDEmbeddings[vocab_5k['UNK']]\n",
    "\n",
    "print_neighbors(euclidean, vocab_5k, SVDEmbeddings, 'good')\n",
    "print_neighbors(cosine, vocab_5k, SVDEmbeddings, 'good')"
   ]
  },
  {
   "cell_type": "markdown",
   "metadata": {},
   "source": [
    "Note: Lorsque l'on applique cette méthode à la matrice des comptes $\\mathbf{M}$ de dimension $T \\times D$, où $\\mathbf{M}_{t,d}$ contient le nombre d'occurences du mot $t$ dans le document $d$, on obtient la méthode appellée **Latent Semantic Analysis**, pour la détection de composantes latentes (sémantiques) permettant de regrouper les documents.  \n",
    "\n",
    "#### Visualisation en deux dimensions\n",
    "\n",
    "On va maintenant utiliser **l'analyse en composantes principales** (PCA) pour visualiser nos données en 2 dimensions.  Cela revient à appliquer la SVD à la matrice de covariance des données, pour que les directions principales soient indépendantes les unes des autres et maximisent la variance des données.\n",
    "On utilise la classe ```PCA``` du package ```scikit-learn```: "
   ]
  },
  {
   "cell_type": "code",
   "execution_count": 27,
   "metadata": {},
   "outputs": [],
   "source": [
    "## Nous définissions ici une fonction auxiliaire qui sera utile pour la suite. Si un mot 'word' n'est pas dans\n",
    "## le vocabulaire 'vocabulary', la fonction 'unk_word' change échange ce mot par 'UNK' (type string)\n",
    "\n",
    "def unk_word(word, vocabulary):\n",
    "    if word not in vocabulary:\n",
    "        word = 'UNK'\n",
    "    return word"
   ]
  },
  {
   "cell_type": "code",
   "execution_count": 28,
   "metadata": {},
   "outputs": [
    {
     "data": {
      "image/png": "[encoded data removed]",
      "text/plain": [
       "<Figure size 432x288 with 1 Axes>"
      ]
     },
     "metadata": {
      "needs_background": "light"
     },
     "output_type": "display_data"
    }
   ],
   "source": [
    "from sklearn.decomposition import PCA\n",
    "pca = PCA(n_components=2, whiten=True)\n",
    "Emb = pca.fit_transform(M5dist)\n",
    "\n",
    "words = ['bad', 'good', 'best', 'worst', 'poor', 'great',\n",
    "         'dialog', 'role', 'actor', 'camera', 'scene',\n",
    "         'film', 'movie', 'oscar', 'award']\n",
    "\n",
    "words = [unk_word(word, vocab_5k) for word in words]\n",
    "\n",
    "ind_words = [vocab_5k[w] for w in words]\n",
    "x_words = [Emb[ind,0] for ind in ind_words]\n",
    "y_words = [Emb[ind,1] for ind in ind_words]\n",
    "\n",
    "fig, ax = plt.subplots()\n",
    "ax.scatter(x_words, y_words)\n",
    "\n",
    "for i, w in enumerate(words):\n",
    "    ax.annotate(w, (x_words[i], y_words[i]), (x_words[i] + 0.001, y_words[i] + 0.001))"
   ]
  },
  {
   "cell_type": "code",
   "execution_count": 29,
   "metadata": {},
   "outputs": [
    {
     "data": {
      "image/png": "[encoded data removed]",
      "text/plain": [
       "<Figure size 432x288 with 1 Axes>"
      ]
     },
     "metadata": {
      "needs_background": "light"
     },
     "output_type": "display_data"
    }
   ],
   "source": [
    "Norm5 = M5dist / np.linalg.norm(M5dist, ord=2, axis=1, keepdims=True)\n",
    "Norm5[np.isnan(Norm5)] = 0\n",
    "\n",
    "pca = PCA(n_components=2, whiten=True)\n",
    "Emb = pca.fit_transform(Norm5)\n",
    "\n",
    "words = ['bad', 'good', 'best', 'worst', 'poor', 'great',\n",
    "         'dialog', 'role', 'actor', 'camera', 'scene',\n",
    "         'film', 'movie', 'oscar', 'award']\n",
    "\n",
    "words = [unk_word(word, vocab_5k) for word in words]\n",
    "\n",
    "ind_words = [vocab_5k[w] for w in words]\n",
    "x_words = [Emb[ind,0] for ind in ind_words]\n",
    "y_words = [Emb[ind,1] for ind in ind_words]\n",
    "\n",
    "fig, ax = plt.subplots()\n",
    "ax.scatter(x_words, y_words)\n",
    "\n",
    "for i, w in enumerate(words):\n",
    "    ax.annotate(w, (x_words[i], y_words[i]), (x_words[i] + 0.001, y_words[i] + 0.001))"
   ]
  },
  {
   "cell_type": "markdown",
   "metadata": {},
   "source": [
    "## Obtenir une représentation: algorithmes couramment utilisés\n",
    "\n",
    "L'idée, ici, est de définir un ensemble de représentations ${w_{i}}_{i=1}^{V}$, de dimension prédéfinie $d$ (ici, on travaillera avec $d = 300$), pour tous les mots $i$ du vocabulaire $V$ - puis **d'entraîner** ces représentations pour qu'elles correspondent à ce que l'on souhaite. \n",
    "\n",
    "### Glove\n",
    "\n",
    "L'objectif défini par Glove ([Pennington et al. (2014)](http://www.aclweb.org/anthology/D/D14/D14-1162.pdf)) est d'apprendre des vecteurs $w_{i}$ et $w_{k}$ de façon à ce que leur produit scalaire correspondent au logarithme de leur **Pointwise Mutual Information**: \n",
    "\n",
    "\n",
    "$$ w_{i}^\\top w_{k} = (PMI(w_{i}, w_{k}))$$\n",
    "\n",
    "\n",
    "Dans l'article, l'obtention de cet objectif est minutieusement justifié par un raisonnement sur les opérations que l'on veut effectuer avec ces vecteurs et les propriétés qu'ils devraient avoir - notamment, une symétrie entre les lignes et les colonnes (voir l'article pour plus de détails).  \n",
    "L'objectif final obtenu est le suivant, où $M$ est la matrice de co-occurences:\n",
    "\n",
    "\n",
    "$$\\sum_{i, j=1}^{|V|} f\\left(M_{ij}\\right)\n",
    "  \\left(w_i^\\top w_j + b_i + b_j - \\log M_{ij}\\right)^2$$\n",
    "  \n",
    " \n",
    "Ici, $f$ est une fonction de *mise à l'échelle* qui permet de diminuer l'importance des comptes de co-occurences les plus fréquents: \n",
    "\n",
    "\n",
    "$$f(x) \n",
    "\\begin{cases}\n",
    "(x/x_{\\max})^{\\alpha} & \\textrm{if } x < x_{\\max} \\\\\n",
    "1 & \\textrm{otherwise}\n",
    "\\end{cases}$$\n",
    "\n",
    "\n",
    "En général, on choisit $\\alpha=0.75$ et $x_{\\max} = 100$, même si ces paramètres peuvent nécessiter un changement selon les données."
   ]
  },
  {
   "cell_type": "markdown",
   "metadata": {},
   "source": [
    "Le code suivant utilise l'API de gensim pour récupérer des représentations pré-entrainées (Il est normal que le chargement soit long)."
   ]
  },
  {
   "cell_type": "code",
   "execution_count": 30,
   "metadata": {},
   "outputs": [],
   "source": [
    "import gensim.downloader as api\n",
    "loaded_glove_model = api.load(\"glove-wiki-gigaword-300\")"
   ]
  },
  {
   "cell_type": "markdown",
   "metadata": {},
   "source": [
    "On peut extraire la matrice des embeddings ainsi, et vérifier sa taille:"
   ]
  },
  {
   "cell_type": "code",
   "execution_count": 31,
   "metadata": {},
   "outputs": [
    {
     "name": "stdout",
     "output_type": "stream",
     "text": [
      "(400000, 300)\n"
     ]
    }
   ],
   "source": [
    "loaded_glove_embeddings = loaded_glove_model.vectors\n",
    "print(loaded_glove_embeddings.shape)"
   ]
  },
  {
   "cell_type": "markdown",
   "metadata": {},
   "source": [
    "On voit donc qu'il y a $400.000$ mots représentés, et que les embeddings sont de dimension $300$. On définit une fonction qui nous renvoie, à partir du modèle chargé, le vocabulaire et la matrice des embeddings suivant les structures que l'on a utilisé auparavant. On ajoute, ici encore, un mot inconnu ```'UNK'``` au cas où se trouve dans nos données des mots qui ne font pas parti des $400.000$ mots représentés ici. "
   ]
  },
  {
   "cell_type": "code",
   "execution_count": 32,
   "metadata": {},
   "outputs": [],
   "source": [
    "def get_glove_voc_and_embeddings(glove_model):\n",
    "    voc = {word : index for word, index in enumerate(glove_model.index2word)}\n",
    "    voc['UNK'] = len(voc)\n",
    "    embeddings = glove_model.vectors\n",
    "    return voc, embeddings"
   ]
  },
  {
   "cell_type": "code",
   "execution_count": 33,
   "metadata": {},
   "outputs": [],
   "source": [
    "loaded_glove_voc, loaded_glove_embeddings = get_glove_voc_and_embeddings(loaded_glove_model)"
   ]
  },
  {
   "cell_type": "markdown",
   "metadata": {},
   "source": [
    "Afin de comparer 'à jeu égal' les représentations chargées ici et celles que l'on a produite, il faudrait utiliser le même vocabulaire. Dans ce but, je réutilise le code qui suit pour créer un vocabulaire de $5000$ mots à partir des données exactement comme hier, et j'ajoute à la fin une fonction qui renvoie la matrices des représentations chargées avec Glove pour ces $5000$ mots seulement, dans le bon ordre. "
   ]
  },
  {
   "cell_type": "code",
   "execution_count": 34,
   "metadata": {},
   "outputs": [],
   "source": [
    "def get_glove_adapted_embeddings(glove_model, input_voc):\n",
    "    keys = {i: glove_model.vocab.get(w, None) for w, i in input_voc.items()}\n",
    "    index_dict = {i: key.index for i, key in keys.items() if key is not None}\n",
    "    embeddings = np.zeros((len(input_voc),glove_model.vectors.shape[1]))\n",
    "    for i, ind in index_dict.items():\n",
    "        embeddings[i] = glove_model.vectors[ind]\n",
    "    return embeddings"
   ]
  },
  {
   "cell_type": "code",
   "execution_count": 35,
   "metadata": {},
   "outputs": [],
   "source": [
    "GloveEmbeddings = get_glove_adapted_embeddings(loaded_glove_model, vocab_5k)"
   ]
  },
  {
   "cell_type": "markdown",
   "metadata": {},
   "source": [
    "Cette fonction prend donc en entrée le modèle chargé à l'aide de l'API Gensim, ainsi qu'un vocabulaire que nous avons créé nous même, et renvoie la matrice d'embeddings tiré du modèle chargé, pour les mots notre vocabulaire et dans le bon ordre.\n",
    "Remarque: les mots inconnus sont représentés par le vecteur nul:"
   ]
  },
  {
   "cell_type": "code",
   "execution_count": 36,
   "metadata": {},
   "outputs": [
    {
     "name": "stdout",
     "output_type": "stream",
     "text": [
      "(5000, 300)\n"
     ]
    },
    {
     "data": {
      "text/plain": [
       "array([0., 0., 0., 0., 0., 0., 0., 0., 0., 0., 0., 0., 0., 0., 0., 0., 0.,\n",
       "       0., 0., 0., 0., 0., 0., 0., 0., 0., 0., 0., 0., 0., 0., 0., 0., 0.,\n",
       "       0., 0., 0., 0., 0., 0., 0., 0., 0., 0., 0., 0., 0., 0., 0., 0., 0.,\n",
       "       0., 0., 0., 0., 0., 0., 0., 0., 0., 0., 0., 0., 0., 0., 0., 0., 0.,\n",
       "       0., 0., 0., 0., 0., 0., 0., 0., 0., 0., 0., 0., 0., 0., 0., 0., 0.,\n",
       "       0., 0., 0., 0., 0., 0., 0., 0., 0., 0., 0., 0., 0., 0., 0., 0., 0.,\n",
       "       0., 0., 0., 0., 0., 0., 0., 0., 0., 0., 0., 0., 0., 0., 0., 0., 0.,\n",
       "       0., 0., 0., 0., 0., 0., 0., 0., 0., 0., 0., 0., 0., 0., 0., 0., 0.,\n",
       "       0., 0., 0., 0., 0., 0., 0., 0., 0., 0., 0., 0., 0., 0., 0., 0., 0.,\n",
       "       0., 0., 0., 0., 0., 0., 0., 0., 0., 0., 0., 0., 0., 0., 0., 0., 0.,\n",
       "       0., 0., 0., 0., 0., 0., 0., 0., 0., 0., 0., 0., 0., 0., 0., 0., 0.,\n",
       "       0., 0., 0., 0., 0., 0., 0., 0., 0., 0., 0., 0., 0., 0., 0., 0., 0.,\n",
       "       0., 0., 0., 0., 0., 0., 0., 0., 0., 0., 0., 0., 0., 0., 0., 0., 0.,\n",
       "       0., 0., 0., 0., 0., 0., 0., 0., 0., 0., 0., 0., 0., 0., 0., 0., 0.,\n",
       "       0., 0., 0., 0., 0., 0., 0., 0., 0., 0., 0., 0., 0., 0., 0., 0., 0.,\n",
       "       0., 0., 0., 0., 0., 0., 0., 0., 0., 0., 0., 0., 0., 0., 0., 0., 0.,\n",
       "       0., 0., 0., 0., 0., 0., 0., 0., 0., 0., 0., 0., 0., 0., 0., 0., 0.,\n",
       "       0., 0., 0., 0., 0., 0., 0., 0., 0., 0., 0.])"
      ]
     },
     "execution_count": 36,
     "metadata": {},
     "output_type": "execute_result"
    }
   ],
   "source": [
    "print(GloveEmbeddings.shape)\n",
    "GloveEmbeddings[vocab_5k['UNK']]"
   ]
  },
  {
   "cell_type": "code",
   "execution_count": 37,
   "metadata": {},
   "outputs": [
    {
     "name": "stdout",
     "output_type": "stream",
     "text": [
      "Plus proches voisins de good selon la distance 'euclidean': \n",
      "[['better', 'well', 'always', 'really', 'sure', 'way', 'but', 'excellent', 'certainly']]\n",
      "Plus proches voisins de good selon la distance 'cosine': \n",
      "[['better', 'really', 'always', 'you', 'well', 'excellent', 'very', 'things', 'think']]\n"
     ]
    }
   ],
   "source": [
    "print_neighbors(euclidean, vocab_5k, GloveEmbeddings, 'good')\n",
    "print_neighbors(cosine, vocab_5k, GloveEmbeddings, 'good')"
   ]
  },
  {
   "cell_type": "markdown",
   "metadata": {},
   "source": [
    "## Application à l'analyse de sentiments\n",
    "\n",
    "On va maintenant utiliser ces représentations pour l'analyse de sentiments. \n",
    "Le modèle de base, comme hier, sera construit en deux étapes:\n",
    "- Une fonction permettant d'obtenir des représentations vectorielles des critiques, à partir des textes, du vocabulaire, et des représentations vectorielles des mots. Une telle fonction (à compléter ci-dessous) va associer à chaque mot d'une critique son embeddings, et créer la représentation pour l'ensemble de la phrase en sommant ces embeddings.\n",
    "- Un classifieur qui prendra ces représentations en entrée et réalisera une prédiction. Pour le réaliser, on pourra utiliser d'abord la régression logistique ```LogisticRegression``` de ```scikit-learn```  "
   ]
  },
  {
   "cell_type": "code",
   "execution_count": 38,
   "metadata": {},
   "outputs": [],
   "source": [
    "def sentence_representations(texts, vocabulary, embeddings, np_func=np.sum):\n",
    "    \"\"\"\n",
    "    Represent the sentences as a combination of the vector of its words.\n",
    "    Parameters\n",
    "    ----------\n",
    "    texts : a list of sentences   \n",
    "    vocabulary : dict\n",
    "        From words to indexes of vector.\n",
    "    embeddings : Matrix containing word representations\n",
    "    np_func : function (default: np.sum)\n",
    "        A numpy matrix operation that can be applied columnwise, \n",
    "        like `np.mean`, `np.sum`, or `np.prod`. \n",
    "    Returns\n",
    "    -------\n",
    "    np.array, dimension `(len(texts), embeddings.shape[1])`            \n",
    "    \"\"\"\n",
    "        \n",
    "    # Pour chaque texte 'text' du corpus 'texts', on considère l'embedding de chaque mot 'word' puis on applique\n",
    "    # la fonction 'np_func' sur cette liste d'embeddings, ce qui donne la représentation du texte courant.\n",
    "    \n",
    "    representations = np.zeros((len(texts), embeddings.shape[1]))\n",
    "    for k, text in enumerate(texts):\n",
    "        text_embedding = []\n",
    "        for word in clean_and_tokenize(text):\n",
    "            text_embedding.append(embeddings[vocabulary[unk_word(word, vocabulary)]])\n",
    "        representations[k]= np_func(text_embedding, axis=0)\n",
    "    return representations"
   ]
  },
  {
   "cell_type": "code",
   "execution_count": 39,
   "metadata": {
    "scrolled": true
   },
   "outputs": [
    {
     "name": "stdout",
     "output_type": "stream",
     "text": [
      "0.8384\n",
      "Score de classification Logistic Regression: 0.832 (std 0.0038)\n"
     ]
    }
   ],
   "source": [
    "## Logistic Regression\n",
    "\n",
    "from sklearn.linear_model import LogisticRegression\n",
    "from sklearn.model_selection import cross_val_score\n",
    "\n",
    "# Exemple avec les embeddings obtenus via Gl0ve\n",
    "rep = sentence_representations(corpus, vocab_5k, GloveEmbeddings)\n",
    "clf = LogisticRegression(solver='lbfgs',max_iter=100000).fit(rep[::2], y[::2])\n",
    "print(clf.score(rep[1::2], y[1::2]))\n",
    "\n",
    "scores = cross_val_score(clf, rep, y, cv=5)\n",
    "print('Score de classification Logistic Regression: %s (std %s)' % (round(np.mean(scores), 4), round(np.std(scores), 4)))"
   ]
  },
  {
   "cell_type": "code",
   "execution_count": 40,
   "metadata": {},
   "outputs": [
    {
     "name": "stderr",
     "output_type": "stream",
     "text": [
      "/home/pierre/.local/lib/python3.7/site-packages/sklearn/svm/base.py:929: ConvergenceWarning: Liblinear failed to converge, increase the number of iterations.\n",
      "  \"the number of iterations.\", ConvergenceWarning)\n"
     ]
    },
    {
     "name": "stdout",
     "output_type": "stream",
     "text": [
      "0.81608\n"
     ]
    },
    {
     "name": "stderr",
     "output_type": "stream",
     "text": [
      "/home/pierre/.local/lib/python3.7/site-packages/sklearn/svm/base.py:929: ConvergenceWarning: Liblinear failed to converge, increase the number of iterations.\n",
      "  \"the number of iterations.\", ConvergenceWarning)\n",
      "/home/pierre/.local/lib/python3.7/site-packages/sklearn/svm/base.py:929: ConvergenceWarning: Liblinear failed to converge, increase the number of iterations.\n",
      "  \"the number of iterations.\", ConvergenceWarning)\n",
      "/home/pierre/.local/lib/python3.7/site-packages/sklearn/svm/base.py:929: ConvergenceWarning: Liblinear failed to converge, increase the number of iterations.\n",
      "  \"the number of iterations.\", ConvergenceWarning)\n",
      "/home/pierre/.local/lib/python3.7/site-packages/sklearn/svm/base.py:929: ConvergenceWarning: Liblinear failed to converge, increase the number of iterations.\n",
      "  \"the number of iterations.\", ConvergenceWarning)\n"
     ]
    },
    {
     "name": "stdout",
     "output_type": "stream",
     "text": [
      "Score de classification SVM: 0.8094 (std 0.0288)\n"
     ]
    },
    {
     "name": "stderr",
     "output_type": "stream",
     "text": [
      "/home/pierre/.local/lib/python3.7/site-packages/sklearn/svm/base.py:929: ConvergenceWarning: Liblinear failed to converge, increase the number of iterations.\n",
      "  \"the number of iterations.\", ConvergenceWarning)\n"
     ]
    }
   ],
   "source": [
    "## SVM\n",
    "\n",
    "from sklearn.svm import LinearSVC\n",
    "from sklearn.model_selection import cross_val_score\n",
    "\n",
    "# Exemple avec les embeddings obtenus via Glove\n",
    "rep = sentence_representations(corpus, vocab_5k, GloveEmbeddings)\n",
    "# clf = LinearSVC(max_iter=25000).fit(rep[::2], y[::2])\n",
    "clf = LinearSVC(max_iter=100000).fit(rep[::2], y[::2])\n",
    "print(clf.score(rep[1::2], y[1::2]))\n",
    "\n",
    "scores = cross_val_score(clf, rep, y, cv=5)\n",
    "print('Score de classification SVM: %s (std %s)' % (round(np.mean(scores), 4), round(np.std(scores), 4)))"
   ]
  },
  {
   "cell_type": "markdown",
   "metadata": {},
   "source": [
    "Vous pouvez maintenant comparer l'ensemble des méthodes, et notamment répondre aux questions suivantes:\n",
    "- Pourquoi peut-on s'attendre à ce que les résultats obtenus avec les embeddings extraits des représentations pré-apprises avec Gl0ve soient bien meilleurs que les autres ? Quel serait le moyen de comparer de manière 'juste' Gl0ve avec les autres méthodes d'apprentissage de représentations ?\n",
    "- Quelle matrice permet d'obtenir les meilleures représentations via SVD ? (Co-occurences, Tf-Idf, PPMI ..)"
   ]
  },
  {
   "cell_type": "markdown",
   "metadata": {},
   "source": [
    "### Réponses\n",
    "\n",
    "On obtient les résultats suivants avec Gl0ve sur le corpus `texts` :\n",
    "\n",
    "|      Classifieur      | Score de classification croisée |\n",
    "|:---------------------:|:-------------------------------:|\n",
    "| Régression Logistique |       0.832 (std 0.004)         |\n",
    "| SVM (`max_iter=25000`)|       0.7918 (std 0.0658)       |\n",
    "|SVM (`max_iter=100000`)|       0.8094 (std 0.0288)       |\n",
    "\n",
    "- On constate donc effectivement que les résultats obtenus avec les _embeddings_ extraits des représentations pré-apprises avec Gl0ve sont bien meilleures que les résultats de la première partie. \n",
    "- On remarque par ailleurs que Gl0ve considère un vocabulaire de $400000$ mots avec une taille d'_embedding_ de $300$. Une façon plus « juste » de procéder pourrait consister à considérer une taille d'_embedding_ égale pour les autres méthodes de représentations, soit en la définissant de taille $300$, soit en réduisant celle de Gl0ve. Une telle façon de procéder permettrait de considérer des représentations de mots dans des espaces de même dimension et donc de comparer la qualité de l'essence même de ces _embeddings_.\n",
    "- On note énfin que les résultats obtenus pour la dernière partie considèrent le corpus `texts` et non plus `texts_reduced`, qui correspond à une fraction de $\\frac{1}{k} = 10 \\%$ (pour `k=10`) de l'ensemble de `texts`. Ainsi, dans la première partie, le jeu de données était bien moins complet. En utilisant Gl0ve avec le corpus réduit `texts_reduced`, les résultats obtenus seraient moins bons qu'ici.\n",
    "- La matrice permettant d'obtenir la meilleure représentationvia SVD semble être la PPMI. La matrice de co-occurences dont la dimension a été réduite présente également des résultats intéressants. D'une façon générale, les résultats obtenus avec TF-IDF sont moins convaincants."
   ]
  }
 ],
 "metadata": {
  "anaconda-cloud": {},
  "kernelspec": {
   "display_name": "Python 3",
   "language": "python",
   "name": "python3"
  },
  "language_info": {
   "codemirror_mode": {
    "name": "ipython",
    "version": 3
   },
   "file_extension": ".py",
   "mimetype": "text/x-python",
   "name": "python",
   "nbconvert_exporter": "python",
   "pygments_lexer": "ipython3",
   "version": "3.7.5"
  }
 },
 "nbformat": 4,
 "nbformat_minor": 1
}
